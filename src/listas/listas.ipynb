{
 "cells": [
  {
   "cell_type": "markdown",
   "id": "3b2c95ea",
   "metadata": {},
   "source": [
    "# Listas\n",
    "\n",
    "* Una lista en Python es una estructura de datos formada por una secuencia ordenada de objetos que almacenan arrays internamente<br>, \n",
    "  cada posición puede ser un tipo de datos distinto.\n",
    "\n",
    "## Ejemplo: \n",
    "  lista = [1, 2, 3.4, 'True', 'Hola']\n",
    "\n",
    "## Las listas en Python son:\n",
    "\n",
    "### Heterogéneas\n",
    "  Pueden estar conformadas por elementos de distintos tipo, incluidos otras listas.\n",
    "\n",
    "### Mutables \n",
    "  Sus elementos pueden modificarse.\n",
    "\n",
    "### Acceder a los elementos de la Lista\n",
    "\n",
    "  Los elementos de una lista pueden accederse mediante su índice, siendo 0 el índice del primer elemento."
   ]
  },
  {
   "cell_type": "markdown",
   "id": "357be5ee",
   "metadata": {},
   "source": [
    "Los índices de una lista inicia entonces de 0 hasta el tamaño de la lista menos uno (len(elementos) - 1):"
   ]
  },
  {
   "cell_type": "markdown",
   "id": "9dfe1f64",
   "metadata": {},
   "source": [
    "Pueden usarse también índices negativos, siendo -1 el índice del último elemento."
   ]
  },
  {
   "cell_type": "markdown",
   "id": "38f93bfe",
   "metadata": {},
   "source": [
    "Los índices negativos van entonces de -1 (último elemento) a -len(elemento) (primer elemento)."
   ]
  },
  {
   "cell_type": "markdown",
   "id": "8d15dba3",
   "metadata": {},
   "source": [
    "A través de los índices, pueden cambiarse los elementos de una lista en el lugar."
   ]
  },
  {
   "cell_type": "markdown",
   "id": "1c793819",
   "metadata": {},
   "source": [
    "## Crear una Lista de cualquier tipo"
   ]
  },
  {
   "cell_type": "code",
   "execution_count": 8,
   "id": "1efd7379",
   "metadata": {},
   "outputs": [
    {
     "data": {
      "text/plain": [
       "['Manzana', 'Papaya', 'Platano']"
      ]
     },
     "execution_count": 8,
     "metadata": {},
     "output_type": "execute_result"
    }
   ],
   "source": [
    "frutas = ['Manzana','Papaya','Platano']\n",
    "frutas"
   ]
  },
  {
   "cell_type": "markdown",
   "id": "a330bd10",
   "metadata": {},
   "source": [
    "## Función `append()`\n",
    "\n",
    "Agrega un elemento al final de una lista"
   ]
  },
  {
   "cell_type": "code",
   "execution_count": 9,
   "id": "2e83b30e",
   "metadata": {},
   "outputs": [
    {
     "data": {
      "text/plain": [
       "['Manzana', 'Papaya', 'Platano', 'Mango']"
      ]
     },
     "execution_count": 9,
     "metadata": {},
     "output_type": "execute_result"
    }
   ],
   "source": [
    "frutas.append('Mango')\n",
    "frutas"
   ]
  },
  {
   "cell_type": "markdown",
   "id": "56bb7dd5",
   "metadata": {},
   "source": [
    "## Función `count()`\n",
    "\n",
    "Recibe un elemento como argumento y cuenta la cantidad de veces que aparece  en la lista"
   ]
  },
  {
   "cell_type": "code",
   "execution_count": 10,
   "id": "d399f160",
   "metadata": {},
   "outputs": [
    {
     "data": {
      "text/plain": [
       "1"
      ]
     },
     "execution_count": 10,
     "metadata": {},
     "output_type": "execute_result"
    }
   ],
   "source": [
    "frutas.count('Mango')"
   ]
  },
  {
   "cell_type": "markdown",
   "id": "68b45109",
   "metadata": {},
   "source": [
    "## Función `len()`\n",
    "\n",
    "Cuenta la cantidad de elementos en la lista"
   ]
  },
  {
   "cell_type": "code",
   "execution_count": 11,
   "id": "a13d059d",
   "metadata": {},
   "outputs": [
    {
     "data": {
      "text/plain": [
       "4"
      ]
     },
     "execution_count": 11,
     "metadata": {},
     "output_type": "execute_result"
    }
   ],
   "source": [
    "len(frutas)"
   ]
  },
  {
   "cell_type": "markdown",
   "id": "040fcf18",
   "metadata": {},
   "source": [
    "## Función `extend()`\n",
    "\n",
    "Extiende una lista agregando una lista al final"
   ]
  },
  {
   "cell_type": "code",
   "execution_count": 13,
   "id": "bbb8eb55",
   "metadata": {},
   "outputs": [
    {
     "data": {
      "text/plain": [
       "[1, 2, 3, 4, 5, 6, 7, 8, 9, 10]"
      ]
     },
     "execution_count": 13,
     "metadata": {},
     "output_type": "execute_result"
    }
   ],
   "source": [
    "lista_1 = [1,2,3,4,5]\n",
    "lista_2 = range(6,11)\n",
    "\n",
    "lista_1.extend(lista_2)\n",
    "lista_1"
   ]
  },
  {
   "cell_type": "markdown",
   "id": "86ade555",
   "metadata": {},
   "source": [
    "## Función `index()`\n",
    "\n",
    "Este método recibe un elemento como argumento, y devuelve el índice de su primera aparición en la lista."
   ]
  },
  {
   "cell_type": "code",
   "execution_count": null,
   "id": "254a4e0a",
   "metadata": {},
   "outputs": [
    {
     "data": {
      "text/plain": [
       "2"
      ]
     },
     "execution_count": 15,
     "metadata": {},
     "output_type": "execute_result"
    }
   ],
   "source": [
    "# numbers.index(elemento)\n",
    "numbers = [1,2,3,4,5]\n",
    "\n",
    "#En el indice 2 de la lista esta el elemento 3\n",
    "numbers.index(3)"
   ]
  },
  {
   "cell_type": "markdown",
   "id": "3cdc7d43",
   "metadata": {},
   "source": [
    "## Función `insert()`\n",
    "\n",
    "Este método inserta un elemento en el índice (i) en la lista."
   ]
  },
  {
   "cell_type": "code",
   "execution_count": 16,
   "id": "51e348da",
   "metadata": {},
   "outputs": [
    {
     "data": {
      "text/plain": [
       "['a', 'b', 'c', 'b', 'f']"
      ]
     },
     "execution_count": 16,
     "metadata": {},
     "output_type": "execute_result"
    }
   ],
   "source": [
    "letras = ['a','b','b','f']\n",
    "letras.insert(2,'c')\n",
    "letras"
   ]
  },
  {
   "cell_type": "markdown",
   "id": "6b30ba1d",
   "metadata": {},
   "source": [
    "## Función `pop()`\n",
    "\n",
    "Este método devuelve el ultimo elemento de la lista y lo borra."
   ]
  },
  {
   "cell_type": "code",
   "execution_count": 24,
   "id": "c31690a0",
   "metadata": {},
   "outputs": [
    {
     "data": {
      "text/plain": [
       "[1, 3, 5]"
      ]
     },
     "execution_count": 24,
     "metadata": {},
     "output_type": "execute_result"
    }
   ],
   "source": [
    "elements = [1,3,5,7]\n",
    "elements.pop()\n",
    "elements"
   ]
  },
  {
   "cell_type": "markdown",
   "id": "a9571147",
   "metadata": {},
   "source": [
    "Opcionalmente puede recibir un argumento numérico, que funciona como índice del elemento (por defecto, -1)"
   ]
  },
  {
   "cell_type": "code",
   "execution_count": 25,
   "id": "9f2e9f8f",
   "metadata": {},
   "outputs": [
    {
     "data": {
      "text/plain": [
       "[1, 5]"
      ]
     },
     "execution_count": 25,
     "metadata": {},
     "output_type": "execute_result"
    }
   ],
   "source": [
    "elements.pop(1)\n",
    "elements"
   ]
  },
  {
   "cell_type": "markdown",
   "id": "db8bc636",
   "metadata": {},
   "source": [
    "## Función `remove()`\n",
    "\n",
    "Este método recibe como argumento un elemento, y borra su primera aparición en la lista."
   ]
  },
  {
   "cell_type": "code",
   "execution_count": 28,
   "id": "53bd0797",
   "metadata": {},
   "outputs": [
    {
     "name": "stdout",
     "output_type": "stream",
     "text": [
      "list.remove(x): x not in list\n"
     ]
    }
   ],
   "source": [
    "try:\n",
    "    elements.remove(1)\n",
    "except ValueError as e:\n",
    "    print(e)    "
   ]
  },
  {
   "cell_type": "markdown",
   "id": "3f705cff",
   "metadata": {},
   "source": [
    "## Función `reverse()`\n",
    "\n",
    "Este método invierte el orden de los elementos de una lista"
   ]
  },
  {
   "cell_type": "code",
   "execution_count": 31,
   "id": "a1beed66",
   "metadata": {},
   "outputs": [
    {
     "data": {
      "text/plain": [
       "[5, 4, 3, 2, 1]"
      ]
     },
     "execution_count": 31,
     "metadata": {},
     "output_type": "execute_result"
    }
   ],
   "source": [
    "n = [1,2,3,4,5]\n",
    "n.reverse()\n",
    "n"
   ]
  },
  {
   "cell_type": "markdown",
   "id": "ba58c936",
   "metadata": {},
   "source": [
    "## Función `sort()`\n",
    "\n",
    "Este método ordena los elementos de una lista."
   ]
  },
  {
   "cell_type": "code",
   "execution_count": 32,
   "id": "732b7153",
   "metadata": {},
   "outputs": [
    {
     "data": {
      "text/plain": [
       "[2.1, 2.5, 3.6, 4, 5, 6]"
      ]
     },
     "execution_count": 32,
     "metadata": {},
     "output_type": "execute_result"
    }
   ],
   "source": [
    "versiones_plone = [4, 2.5, 5, 3.6, 2.1, 6]\n",
    "versiones_plone.sort()\n",
    "versiones_plone"
   ]
  }
 ],
 "metadata": {
  "kernelspec": {
   "display_name": "venv",
   "language": "python",
   "name": "python3"
  },
  "language_info": {
   "codemirror_mode": {
    "name": "ipython",
    "version": 3
   },
   "file_extension": ".py",
   "mimetype": "text/x-python",
   "name": "python",
   "nbconvert_exporter": "python",
   "pygments_lexer": "ipython3",
   "version": "3.13.2"
  }
 },
 "nbformat": 4,
 "nbformat_minor": 5
}
