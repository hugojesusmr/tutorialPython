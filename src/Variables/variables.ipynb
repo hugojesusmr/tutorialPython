{
 "cells": [
  {
   "cell_type": "markdown",
   "metadata": {},
   "source": [
    "# 1 --- Qué es una Variable  ---\n",
    "\n",
    "* Es un nombre que se refiere a un objeto que reside en memoria.\n",
    "* Cada variable debe tener un nombre único llamado identificador esto nos ayuda a pensar que las varibles son como contenedores que contienen data.\n",
    "\n",
    "### Alcance de las Variables \n",
    "\n",
    "* Son locales por defecto, esto quiere decir que las variables definidas y utilizadas en el bloque de código de la función<br> \n",
    "  solo tiene existencia dentro de la misma y no interfiere con el resto de las varibles definidas en el codigo.\n",
    "\n",
    "* A su ves las varibles definidas fuera de una funcion no son visibles dentro de la misma.  \n",
    "\n",
    "* Una variable local puede convertirse en una variable global declarandola explicitamente con la sentencia `global`\n"
   ]
  },
  {
   "cell_type": "markdown",
   "metadata": {},
   "source": [
    "### Reglas para Nombrar Variables\n",
    "\n",
    "* Solo pueden contener letras mayusculas, minusculas, guiones bajos.\n",
    "* No pueden comenzar con un numero o dígito.\n",
    "* No pueden contener espacios.\n",
    "* No pueden ser palabras reservadas.\n",
    "* No usar simbolos como !,@,#,$,%, etc    "
   ]
  },
  {
   "cell_type": "markdown",
   "metadata": {},
   "source": [
    "### Convenciones para nombrar Variables\n",
    "\n",
    "* snake_case\n",
    "* Usar nombres para variables: (`ej. article`)\n",
    "* Usar verbos para Funciones: (`ej. get_article()`)\n",
    "* Usar Objetos para booleanos: (`ej. available`)"
   ]
  },
  {
   "cell_type": "markdown",
   "metadata": {},
   "source": [
    "### Ejercicio 1.1 \n",
    "\n",
    "Cree una varible, asigne un valor y muestee su tipo de dato"
   ]
  },
  {
   "cell_type": "code",
   "execution_count": 2,
   "metadata": {},
   "outputs": [
    {
     "data": {
      "text/plain": [
       "str"
      ]
     },
     "execution_count": 2,
     "metadata": {},
     "output_type": "execute_result"
    }
   ],
   "source": [
    "tipo_string = \"Hola Mundo\"\n",
    "type(tipo_string)\n",
    "\n"
   ]
  },
  {
   "cell_type": "markdown",
   "metadata": {},
   "source": [
    "### Ejercicio 1.2\n",
    "\n",
    "Cambie el valor de la variable tipo_string"
   ]
  },
  {
   "cell_type": "code",
   "execution_count": 3,
   "metadata": {},
   "outputs": [
    {
     "data": {
      "text/plain": [
       "'Estoy programando en Python'"
      ]
     },
     "execution_count": 3,
     "metadata": {},
     "output_type": "execute_result"
    }
   ],
   "source": [
    "tipo_string = \"Estoy programando en Python\"\n",
    "tipo_string"
   ]
  },
  {
   "cell_type": "markdown",
   "metadata": {},
   "source": [
    "### Ejercicio 1.3\n",
    "\n",
    "Asigne multiples valores a multiples variables"
   ]
  },
  {
   "cell_type": "code",
   "execution_count": 5,
   "metadata": {},
   "outputs": [
    {
     "name": "stdout",
     "output_type": "stream",
     "text": [
      "Valor de a: 1\n",
      "Valor de b: 2\n",
      "Valor de c: 3\n"
     ]
    }
   ],
   "source": [
    "a, b, c = 1, 2, 3\n",
    "print(f\"Valor de a: {a}\")\n",
    "print(f\"Valor de b: {b}\")\n",
    "print(f\"Valor de c: {c}\")"
   ]
  },
  {
   "cell_type": "markdown",
   "metadata": {},
   "source": [
    "### Ejercicio 1.3 \n",
    "\n",
    "Asignar el mismo valor a una variable\n"
   ]
  },
  {
   "cell_type": "code",
   "execution_count": 6,
   "metadata": {},
   "outputs": [
    {
     "name": "stdout",
     "output_type": "stream",
     "text": [
      "El valor de x : True\n",
      "El valor de y : True\n",
      "El valor de z : True\n"
     ]
    }
   ],
   "source": [
    "x = y = z = True\n",
    "\n",
    "print(f\"El valor de x : {x}\")\n",
    "print(f\"El valor de y : {y}\")\n",
    "print(f\"El valor de z : {z}\")"
   ]
  },
  {
   "cell_type": "markdown",
   "metadata": {},
   "source": [
    "# 2.- Constantes\n",
    "\n",
    "* Una constante es un tipo de variable la cual no puede ser cambiada \n",
    "* SE declaran en mayusculas: `ej: NOMBRE_VARAIBLE = 10`\n"
   ]
  },
  {
   "cell_type": "markdown",
   "metadata": {},
   "source": [
    "### Ejercicio 2.1\n",
    "\n",
    " Creee Varias Constantes"
   ]
  },
  {
   "cell_type": "code",
   "execution_count": null,
   "metadata": {},
   "outputs": [],
   "source": [
    "IP_DB_SERVER = '127.0.0.1'\n",
    "PORT_DB_SERVER = 3306\n",
    "USER_DB_SERVER = '12345'"
   ]
  },
  {
   "cell_type": "markdown",
   "metadata": {},
   "source": [
    "# 3.- Palabras Reservadas\n",
    "\n",
    "Existen palablas que tienen cierto significado especial para el interprete de Python, y no se pueden usar para ningun otro fin como crear nombre de variables, excepto para el que han sido creadas"
   ]
  },
  {
   "cell_type": "markdown",
   "metadata": {},
   "source": [
    "### Ejercicio 3.1 \n",
    "\n",
    "Imprimir las palabras reservadas del lenguaje Python"
   ]
  },
  {
   "cell_type": "code",
   "execution_count": 8,
   "metadata": {},
   "outputs": [
    {
     "data": {
      "text/plain": [
       "['False',\n",
       " 'None',\n",
       " 'True',\n",
       " 'and',\n",
       " 'as',\n",
       " 'assert',\n",
       " 'async',\n",
       " 'await',\n",
       " 'break',\n",
       " 'class',\n",
       " 'continue',\n",
       " 'def',\n",
       " 'del',\n",
       " 'elif',\n",
       " 'else',\n",
       " 'except',\n",
       " 'finally',\n",
       " 'for',\n",
       " 'from',\n",
       " 'global',\n",
       " 'if',\n",
       " 'import',\n",
       " 'in',\n",
       " 'is',\n",
       " 'lambda',\n",
       " 'nonlocal',\n",
       " 'not',\n",
       " 'or',\n",
       " 'pass',\n",
       " 'raise',\n",
       " 'return',\n",
       " 'try',\n",
       " 'while',\n",
       " 'with',\n",
       " 'yield']"
      ]
     },
     "execution_count": 8,
     "metadata": {},
     "output_type": "execute_result"
    }
   ],
   "source": [
    "import keyword\n",
    "keyword.kwlist"
   ]
  },
  {
   "cell_type": "markdown",
   "metadata": {},
   "source": [
    "### 4 --- Sentencia Globales --- \n",
    "\n",
    "La sentencia `global` es una declaración que semantiene para todo el bloque de codigo actual "
   ]
  },
  {
   "cell_type": "markdown",
   "metadata": {},
   "source": [
    "### 4.1 Cree una varible normal y dentro de una funcion convierta la misma variable a una global"
   ]
  },
  {
   "cell_type": "code",
   "execution_count": 11,
   "metadata": {},
   "outputs": [
    {
     "name": "stdout",
     "output_type": "stream",
     "text": [
      "Variable Normal\n",
      "Se convirtio a una variable Global\n"
     ]
    }
   ],
   "source": [
    "variable_normal = \"Variable Normal\"\n",
    "\n",
    "def variable_global():\n",
    "    global variable_normal\n",
    "    variable_normal = \"Se convirtio a una variable Global\"\n",
    "\n",
    "# Imprimiendo el valor de la variable normal\n",
    "print(variable_normal)    \n",
    "\n",
    "#Llamando a la funcion variable_global\n",
    "variable_global()\n",
    "print(variable_normal)"
   ]
  }
 ],
 "metadata": {
  "kernelspec": {
   "display_name": "venv",
   "language": "python",
   "name": "python3"
  },
  "language_info": {
   "codemirror_mode": {
    "name": "ipython",
    "version": 3
   },
   "file_extension": ".py",
   "mimetype": "text/x-python",
   "name": "python",
   "nbconvert_exporter": "python",
   "pygments_lexer": "ipython3",
   "version": "3.13.2"
  }
 },
 "nbformat": 4,
 "nbformat_minor": 2
}
