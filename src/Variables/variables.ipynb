{
 "cells": [
  {
   "cell_type": "markdown",
   "metadata": {},
   "source": [
    "# 1.- Qué es una Variable\n",
    "\n",
    "* Es un nombre que se refiere a un objeto que reside en memoria.\n",
    "* Cada variable debe tener un nombre único llamado identificador esto nos ayuda a pensar que las varibles son como contenedores que contienen data.\n",
    "\n",
    "# Alcance de las Variables\n",
    "\n",
    "* Son locales por defecto, esto quiere decir que las variables definidas y utilizadas en el bloque de codigo de la funcion<br> \n",
    "  solo tiene existencia dentro de la misma y no interfiere con el resto de las varibles definidas en el codigo.\n",
    "\n",
    "* A su ves las varibles definidas fuera de una funcion no son visibles dentro de la misma.  \n",
    "\n",
    "\n"
   ]
  },
  {
   "cell_type": "markdown",
   "metadata": {},
   "source": [
    "# Reglas para Nombrar Variables\n",
    "\n",
    "* Solo pueden contener letras mayusculas, minusculas, guiones bajos.\n",
    "* No pueden comenzar con un numero.\n",
    "* No pueden contener espacios.\n",
    "* No pueden ser palabras reservadas."
   ]
  },
  {
   "cell_type": "markdown",
   "metadata": {},
   "source": [
    "# Convenciones para nombrar Variables\n",
    "\n",
    "* snake_case\n",
    "* Usar nombres para variables: (`ej. article`)\n",
    "* Usar verbos para Funciones: (`ej. get_article()`)\n",
    "* Usar Objetos para booleanos: (`ej. available`)"
   ]
  },
  {
   "cell_type": "markdown",
   "metadata": {},
   "source": [
    "# Constantes\n",
    "\n",
    "* Su valor no cambia.\n",
    "* SE declaran en mayusculas: `ej: NOMBRE_VARAIBLE=10`\n"
   ]
  },
  {
   "cell_type": "markdown",
   "metadata": {},
   "source": [
    "## Ejercicio 1.1\n",
    "\n",
    "Imprima las palabras reservadas de python"
   ]
  },
  {
   "cell_type": "code",
   "execution_count": 2,
   "metadata": {},
   "outputs": [
    {
     "name": "stdout",
     "output_type": "stream",
     "text": [
      "['False', 'None', 'True', 'and', 'as', 'assert', 'async', 'await', 'break', 'class', 'continue', 'def', 'del', 'elif', 'else', 'except', 'finally', 'for', 'from', 'global', 'if', 'import', 'in', 'is', 'lambda', 'nonlocal', 'not', 'or', 'pass', 'raise', 'return', 'try', 'while', 'with', 'yield']\n"
     ]
    }
   ],
   "source": [
    "import keyword\n",
    "\n",
    "print(keyword.kwlist)\n",
    "\n"
   ]
  },
  {
   "cell_type": "markdown",
   "metadata": {},
   "source": [
    "# Ejercicio 1.2\n",
    "\n",
    "Cree varias variables enteras, flotantes, de cadena y booleanas e imprimir su tipo"
   ]
  },
  {
   "cell_type": "code",
   "execution_count": 4,
   "metadata": {},
   "outputs": [
    {
     "name": "stdout",
     "output_type": "stream",
     "text": [
      "<class 'int'>\n",
      "<class 'float'>\n",
      "<class 'str'>\n",
      "<class 'bool'>\n"
     ]
    }
   ],
   "source": [
    "numero = 2\n",
    "print(type(numero))\n",
    "\n",
    "numero_flotante = 3.4\n",
    "print(type(numero_flotante))\n",
    "\n",
    "cadena = \"Hola Mundo\"\n",
    "print(type(cadena))\n",
    "\n",
    "booleano = True\n",
    "print(type(booleano))"
   ]
  },
  {
   "cell_type": "markdown",
   "metadata": {},
   "source": [
    "# Ejercicio 1.3\n",
    "\n",
    " Creee Varias Constantes"
   ]
  },
  {
   "cell_type": "code",
   "execution_count": null,
   "metadata": {},
   "outputs": [],
   "source": [
    "HOST = '127.0.0.1'\n",
    "USER = 'root'\n",
    "PASS = '12345'"
   ]
  }
 ],
 "metadata": {
  "kernelspec": {
   "display_name": "venv",
   "language": "python",
   "name": "python3"
  },
  "language_info": {
   "codemirror_mode": {
    "name": "ipython",
    "version": 3
   },
   "file_extension": ".py",
   "mimetype": "text/x-python",
   "name": "python",
   "nbconvert_exporter": "python",
   "pygments_lexer": "ipython3",
   "version": "3.13.2"
  }
 },
 "nbformat": 4,
 "nbformat_minor": 2
}
