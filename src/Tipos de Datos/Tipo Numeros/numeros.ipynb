{
 "cells": [
  {
   "cell_type": "markdown",
   "metadata": {},
   "source": [
    "# Números\n",
    "\n",
    "Se estudian dos categorías de números:\n",
    "\n",
    "- Números enteros (Reales)\n",
    "- Reales\n",
    "- Imaginarios\n",
    "- Fracciones"
   ]
  },
  {
   "cell_type": "markdown",
   "metadata": {},
   "source": []
  }
 ],
 "metadata": {
  "language_info": {
   "name": "python"
  }
 },
 "nbformat": 4,
 "nbformat_minor": 2
}
