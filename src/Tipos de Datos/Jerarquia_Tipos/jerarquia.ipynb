{
 "cells": [
  {
   "cell_type": "markdown",
   "id": "eaabc858",
   "metadata": {},
   "source": [
    "# Jerarquia de Tipos Estandar \n",
    "\n",
    "Python puede agregar tipos a las jerarquía de tipos como números racionales, arrays de enteros, tiene varios tipos de datos compuestos disponibles, como:\n",
    "\n",
    "* Numericos\n",
    "* Secuencias \n",
    "* Mapeos\n",
    "* Conjuntos\n",
    "\n",
    "## Clasificación\n",
    "\n",
    "Los tipos de datos compuestos se clasifican como:\n",
    "\n",
    "* Mutables: Su contenido o valor puede cambiar en tiempo de ejecución\n",
    "* Inmutables: Su contenido o valor no puede cambiar en tiempo de ejecución\n",
    "\n",
    "\n",
    "* Números Reales: `int(entero)`, `float(coma flotante)`, `complex(complejo)`, `bool(booleano)`\n",
    "* Secuencias Inmutables: `str(cadena de caracteres)`, `tuple(tupla)`\n",
    "* Secuencias Mutables: `list(lista)`, `range(rango mutable)`\n",
    "* Mapeos: `dict(diccionarios)`\n",
    "* Conjuntos Mutables: `set(conjunto mutable)`\n",
    "* Conjuntos Inmutables: `frozenset(Conjunto Mutable)`\n",
    "\n",
    "\n",
    "## Objetos Type\n",
    "\n",
    "* Los objetos `type` representan los diversos tipos de objetos. \n",
    "* Un objeto `type` es accedido por la función integrada `type()`.\n",
    "* El módulo estandar `type` define los nombres para todos los tipos integrados estándar.\n",
    "\n",
    "Los tipos son escritos como: `<type 'int'>`\n"
   ]
  }
 ],
 "metadata": {
  "language_info": {
   "name": "python"
  }
 },
 "nbformat": 4,
 "nbformat_minor": 5
}
