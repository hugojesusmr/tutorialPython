{
 "cells": [
  {
   "cell_type": "markdown",
   "metadata": {},
   "source": [
    "# Condicionales `if elif else`\n",
    "\n",
    "En python las estructuras condicionales se utilizan para evaluar multiples condiciones.\n",
    "\n",
    "* `if` = evalúa la primera condición.\n",
    "* `elif` = permite evaluar condiciones adicionales si las anteriores son falsas.\n",
    "* `else` = se ejecuta si todas las condiciones anteriores son falsas.\n"
   ]
  },
  {
   "cell_type": "markdown",
   "metadata": {},
   "source": [
    "## `if`\n",
    "\n",
    "Se utiliza para evaluar una condición. Si la condición es verdadera (True), se ejecuta el bloque de código que sigue\n",
    "\n"
   ]
  },
  {
   "cell_type": "code",
   "execution_count": 1,
   "metadata": {},
   "outputs": [
    {
     "name": "stdout",
     "output_type": "stream",
     "text": [
      "10 es mayor que 5\n"
     ]
    }
   ],
   "source": [
    "x = 10\n",
    "if x > 5:\n",
    "    print(f\"{x} es mayor que 5\")"
   ]
  },
  {
   "cell_type": "markdown",
   "metadata": {},
   "source": [
    "## `elif`\n",
    "\n",
    "Se utiliza para evaluar múltiples condiciones. Si la condición del `if` es falsa, se evalúa la condición del `elif`.\n"
   ]
  },
  {
   "cell_type": "code",
   "execution_count": null,
   "metadata": {},
   "outputs": [
    {
     "name": "stdout",
     "output_type": "stream",
     "text": [
      "x es mayor que 5 pero menor o igual a 15\n"
     ]
    }
   ],
   "source": [
    "x = 10\n",
    "if x > 15:\n",
    "    print(\"x es mayor que 15\")\n",
    "elif x > 5:\n",
    "    print(\"x es mayor que 5 pero menor a 15\")"
   ]
  },
  {
   "cell_type": "markdown",
   "metadata": {},
   "source": [
    "# `else`\n",
    " \n",
    "Se utiliza para ejecutar un bloque de código si todas las condiciones anteriores (if y elif) son falsas. Solo puede haber un bloque else al final de la estructura condicional."
   ]
  },
  {
   "cell_type": "code",
   "execution_count": null,
   "metadata": {},
   "outputs": [
    {
     "name": "stdout",
     "output_type": "stream",
     "text": [
      "x es mayor que 2 pero menor o igual a 5\n"
     ]
    }
   ],
   "source": [
    "x = 3\n",
    "if x > 5:\n",
    "    print(\"x es mayor que 5\")\n",
    "elif x > 2:\n",
    "    print(\"x es mayor que 2 pero menor a 5\")\n",
    "else:\n",
    "    print(\"x es menor o igual a 2\")"
   ]
  }
 ],
 "metadata": {
  "kernelspec": {
   "display_name": "venv",
   "language": "python",
   "name": "python3"
  },
  "language_info": {
   "codemirror_mode": {
    "name": "ipython",
    "version": 3
   },
   "file_extension": ".py",
   "mimetype": "text/x-python",
   "name": "python",
   "nbconvert_exporter": "python",
   "pygments_lexer": "ipython3",
   "version": "3.13.2"
  }
 },
 "nbformat": 4,
 "nbformat_minor": 2
}
