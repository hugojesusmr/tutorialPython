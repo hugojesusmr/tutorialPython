{
 "cells": [
  {
   "cell_type": "markdown",
   "metadata": {},
   "source": [
    "# Bucle `While`\n",
    "\n",
    "* En python existe una palabra reservada `while` que nos permite ejecutar ciclos, o bien secuencas periodicas que nos permiten ejecutar código múltiples veces.\n",
    "\n",
    "* Nos permite realizar multiples iteraciones basándonos en el resultao de una expresión lógica que puede tener como resultado un valor `True` o `False`.\n"
   ]
  },
  {
   "cell_type": "markdown",
   "metadata": {},
   "source": [
    "## Tipos de Bucles `While`\n",
    "\n",
    "El operador `+`, suma los valores de tipo de datos numéricos."
   ]
  },
  {
   "cell_type": "markdown",
   "metadata": {},
   "source": [
    "### Bucle `While` controlado por Conteo\n",
    "\n",
    "Este ejemplo tiene un contador con un valor incial de cero, cada iteración del `while` manipula esta variable de manera que incremente su valor en 1, 2 y asi sucesivamente. Eventualmente cuando el contador llegue a tener un valor de 5, la condición del ciclo numero <= 5 sera False, "
   ]
  },
  {
   "cell_type": "code",
   "execution_count": 4,
   "metadata": {},
   "outputs": [
    {
     "name": "stdout",
     "output_type": "stream",
     "text": [
      "La suma es: 15\n"
     ]
    }
   ],
   "source": [
    "suma , cont = 0, 1 \n",
    "# ciclo |  suma        | cont\n",
    "#-------|--------------|-----\n",
    "#  1    |  0 + 1 = 1   |  2\n",
    "#  2    |  1 + 2 = 3   |  3 \n",
    "#  3    |  3 + 3 = 6   |  4 \n",
    "#  4    |  6 + 4 = 10  |  5 \n",
    "#  5    |  10 + 5 = 15 |  \n",
    "#  \n",
    "while cont <= 5:\n",
    "    suma += cont\n",
    "    cont = cont + 1\n",
    "print(f\"La suma es: {suma}\")"
   ]
  },
  {
   "cell_type": "markdown",
   "metadata": {},
   "source": [
    "### Bucle `while` controlado por Evento\n",
    "\n",
    "El bucle `while` controlado por evento termina cuando el usuario ingrese -1"
   ]
  },
  {
   "cell_type": "code",
   "execution_count": null,
   "metadata": {},
   "outputs": [
    {
     "name": "stdout",
     "output_type": "stream",
     "text": [
      "Introduzca la Nota de un estudiente (-1 para salir): \n",
      "No se introdujeron notas: 0.0\n"
     ]
    }
   ],
   "source": [
    "promedio, total, cont = 0.0, 0, 0\n",
    "\n",
    "print(\"Introduzca la Nota de un estudiente (-1 para salir): \")\n",
    "grado = int(input())\n",
    "\n",
    "while grado != -1:\n",
    "    total = total + grado\n",
    "    cont = cont + 1\n",
    "    print(\"Introduzca la Nota de un estudiente (-1 para salir): \")\n",
    "    grado = int(input())\n",
    "if cont > 0:\n",
    "    promedio = total / cont\n",
    "    print(f\"Promedio del grado de notas es: {str(promedio)}\")\n",
    "else:\n",
    "    print(f\"No se introdujeron notas\")\n",
    "\n",
    "    "
   ]
  },
  {
   "cell_type": "markdown",
   "metadata": {},
   "source": [
    "# Sentencia `break`\n",
    "\n",
    "La sentencia `break` es una alternativa para romper un ciclo `while`, esto nos permite salir del ciclo "
   ]
  },
  {
   "cell_type": "code",
   "execution_count": 35,
   "metadata": {},
   "outputs": [
    {
     "name": "stdout",
     "output_type": "stream",
     "text": [
      "1\n",
      "2\n",
      "3\n",
      "4\n"
     ]
    }
   ],
   "source": [
    "cont = 1\n",
    "\n",
    "while cont <= 10:\n",
    "    if cont == 5:\n",
    "       break\n",
    "    print(cont)\n",
    "    cont += 1"
   ]
  },
  {
   "cell_type": "markdown",
   "metadata": {},
   "source": [
    "# Sentencia `contine`\n",
    "\n",
    "La sentencia `continue` continua con la ejeción sin romper el ciclo `while` "
   ]
  },
  {
   "cell_type": "code",
   "execution_count": 27,
   "metadata": {},
   "outputs": [
    {
     "name": "stdout",
     "output_type": "stream",
     "text": [
      "1\n",
      "2\n",
      "3\n",
      "4\n",
      "6\n",
      "7\n",
      "8\n",
      "9\n",
      "10\n"
     ]
    }
   ],
   "source": [
    "cont = 1\n",
    "\n",
    "while cont <= 10:\n",
    "    if cont == 5:\n",
    "        cont += 1\n",
    "        continue\n",
    "    print(cont)\n",
    "    cont += 1"
   ]
  },
  {
   "cell_type": "markdown",
   "metadata": {},
   "source": [
    "# Serie de `Fibonacii`\n",
    "\n",
    "La serie de Fibonacci es una secuencia de números donde cada número es la suma de los dos números anteriores, utilizando un while realice un programa que calcule dicha serie: 0,1,1,2,3,5,8,13,21,34..."
   ]
  },
  {
   "cell_type": "code",
   "execution_count": 55,
   "metadata": {},
   "outputs": [
    {
     "name": "stdout",
     "output_type": "stream",
     "text": [
      "0, 1, 1, 2, 3, 5, 8, 13, 21, 34, 55, "
     ]
    }
   ],
   "source": [
    "suma,num1, num2 = 0, 1, 0\n",
    "\n",
    "print(suma, end=', ')\n",
    "while suma <= 50:\n",
    "    suma = num1 + num2\n",
    "    num1, num2 = num2, suma \n",
    "    print(suma, end=', ')\n",
    "    \n"
   ]
  }
 ],
 "metadata": {
  "kernelspec": {
   "display_name": "venv",
   "language": "python",
   "name": "python3"
  },
  "language_info": {
   "codemirror_mode": {
    "name": "ipython",
    "version": 3
   },
   "file_extension": ".py",
   "mimetype": "text/x-python",
   "name": "python",
   "nbconvert_exporter": "python",
   "pygments_lexer": "ipython3",
   "version": "3.13.2"
  }
 },
 "nbformat": 4,
 "nbformat_minor": 2
}
