{
 "cells": [
  {
   "cell_type": "markdown",
   "metadata": {},
   "source": [
    "# Bucle `for`\n",
    "\n",
    "* En python existe una palabra reservada `for` que nos permite ejecutar ciclos, o bien secuencas periodicas que nos permiten ejecutar código múltiples veces.\n"
   ]
  },
  {
   "cell_type": "markdown",
   "metadata": {},
   "source": [
    "## Tipos de Bucles `for`\n"
   ]
  },
  {
   "cell_type": "markdown",
   "metadata": {},
   "source": [
    "### Bucle `for` conListas\n",
    "\n",
    " "
   ]
  },
  {
   "cell_type": "code",
   "execution_count": 6,
   "metadata": {},
   "outputs": [
    {
     "name": "stdout",
     "output_type": "stream",
     "text": [
      "the animal is: cat tamaño de palabras es: 3\n",
      "the animal is: dog tamaño de palabras es: 3\n",
      "the animal is: snake tamaño de palabras es: 5\n"
     ]
    }
   ],
   "source": [
    "animals = [\"cat\",\"dog\",\"snake\"]\n",
    "\n",
    "for animal in animals:\n",
    "    print(f\"the animal is: {animal} tamaño de palabras es: {len(animal)}\")"
   ]
  },
  {
   "cell_type": "markdown",
   "metadata": {},
   "source": [
    "### Bucle `for` con Listas y Función `range`\n"
   ]
  },
  {
   "cell_type": "code",
   "execution_count": null,
   "metadata": {},
   "outputs": [
    {
     "name": "stdout",
     "output_type": "stream",
     "text": [
      "Palabra: Estoy, y su pusicion es: 0\n",
      "Palabra: aprendiendo, y su pusicion es: 1\n",
      "Palabra: el, y su pusicion es: 2\n",
      "Palabra: lenguaje, y su pusicion es: 3\n",
      "Palabra: Python, y su pusicion es: 4\n"
     ]
    }
   ],
   "source": [
    "oracion = \"Estoy aprendiendo el lenguaje Python\"\n",
    "frase = oracion.split()\n",
    "\n",
    "for palabra in range(len(frase)):\n",
    "    print(f\"Palabra: {frase[palabra]}, y su posicion es: {palabra}\") \n",
    "\n",
    "    "
   ]
  },
  {
   "cell_type": "markdown",
   "metadata": {},
   "source": [
    "# Bucle `for` con Tuplas"
   ]
  },
  {
   "cell_type": "code",
   "execution_count": null,
   "metadata": {},
   "outputs": [
    {
     "name": "stdout",
     "output_type": "stream",
     "text": [
      "127.8.0.0\n",
      "root\n",
      "123456\n",
      "nomina\n"
     ]
    }
   ],
   "source": [
    "connection = (\"127.8.0.0\", \"root\",\"123456\",\"nomina\")\n",
    "\n",
    "for conn in connection:\n",
    "    print(conn)\n"
   ]
  },
  {
   "cell_type": "markdown",
   "metadata": {},
   "source": [
    "# Bucle `for` con Diccionarios"
   ]
  },
  {
   "cell_type": "code",
   "execution_count": null,
   "metadata": {},
   "outputs": [
    {
     "name": "stdout",
     "output_type": "stream",
     "text": [
      "nombres:Hugo de Jesús\n",
      "Apellidos:Melo Rangel\n",
      "Fecha de Nacimiento:19 de Agosto de 1985\n",
      "Nacionalidad:Mexicana\n"
     ]
    }
   ],
   "source": [
    "nombres = {\n",
    "    \"nombres\": \" Hugo de Jesús\",\n",
    "    \"Apellidos\":\" Melo Rangel\",\n",
    "    \"Fecha de Nacimiento\":\" 19 de Agosto de 1985\",\n",
    "    \"Nacionalidad\":\" Mexicana\"\n",
    "}\n",
    "\n",
    "clave = nombres.keys()\n",
    "valor = nombres.values()\n",
    "clave_valor = nombres.items()\n",
    "\n",
    "for clave, valor in clave_valor:\n",
    "    print(f\"{clave}:{valor}\")"
   ]
  },
  {
   "cell_type": "markdown",
   "metadata": {},
   "source": [
    "# Bucle `for` con `else`\n",
    "\n",
    "El bloque `else` se ejecutará en todos los casos."
   ]
  },
  {
   "cell_type": "code",
   "execution_count": 16,
   "metadata": {},
   "outputs": [
    {
     "name": "stdout",
     "output_type": "stream",
     "text": [
      "1\n",
      "2\n",
      "3\n",
      "4\n",
      "5\n",
      "El bucle a terminado sin interrupciones\n"
     ]
    }
   ],
   "source": [
    "numeros = [1,2,3,4,5]\n",
    "for num in numeros:\n",
    "    print(num)\n",
    "else:\n",
    "    print(\"El bucle a terminado sin interrupciones\")"
   ]
  },
  {
   "cell_type": "markdown",
   "metadata": {},
   "source": [
    "# Serie de `Fibonacii`\n",
    "\n",
    "La serie de Fibonacci es una secuencia de números donde cada número es la suma de los dos números anteriores, utilizando un while realice un programa que calcule dicha serie: 0,1,1,2,3,5,8,13,21,34..."
   ]
  },
  {
   "cell_type": "code",
   "execution_count": 34,
   "metadata": {},
   "outputs": [
    {
     "name": "stdout",
     "output_type": "stream",
     "text": [
      "1, 1, 2, 3, 5, 8, 13, 21, 34, 55, 89, 144, 233, 377, 610, 987, 1597, 2584, 4181, 6765, "
     ]
    }
   ],
   "source": [
    "num1=1\n",
    "num2=0\n",
    "for i in range(20):\n",
    "    suma = num1 + num2\n",
    "    num1, num2 = num2,suma\n",
    "    print(suma, end=', ')\n",
    "    \n"
   ]
  }
 ],
 "metadata": {
  "kernelspec": {
   "display_name": "venv",
   "language": "python",
   "name": "python3"
  },
  "language_info": {
   "codemirror_mode": {
    "name": "ipython",
    "version": 3
   },
   "file_extension": ".py",
   "mimetype": "text/x-python",
   "name": "python",
   "nbconvert_exporter": "python",
   "pygments_lexer": "ipython3",
   "version": "3.13.2"
  }
 },
 "nbformat": 4,
 "nbformat_minor": 2
}
