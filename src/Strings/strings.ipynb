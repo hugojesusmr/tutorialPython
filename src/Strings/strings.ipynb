{
 "cells": [
  {
   "cell_type": "markdown",
   "metadata": {},
   "source": [
    "# Tipo cadenas de caracteres\n",
    "\n",
    "Las cadenas de caracteres, son secuencias `inmutables` que contienen caracteres encerrado entre comillas."
   ]
  },
  {
   "cell_type": "markdown",
   "metadata": {},
   "source": [
    "## Cadenas cortas\n",
    "\n",
    "Son caracteres encerrado entre comillas simples `(')` o dobles `(\")`."
   ]
  },
  {
   "cell_type": "code",
   "execution_count": 16,
   "metadata": {},
   "outputs": [],
   "source": [
    "cadena = 'Hola Mundo'\n",
    "cadena_2 = \"Hello World\""
   ]
  },
  {
   "cell_type": "markdown",
   "metadata": {},
   "source": [
    "## Cadenas largas\n",
    "\n",
    "Son caracteres encerrados entre grupo comillas triples simples `(''')` o dobles `(\"\"\")`, están son generalmente son referenciadas como cadenas de triple comillas."
   ]
  },
  {
   "cell_type": "markdown",
   "metadata": {},
   "source": [
    "# Prefijo de cadenas\n",
    "\n",
    "Una cadena puede estar precedida por el carácter:\n",
    "\n",
    " * `r/R`, el cual indica, que se trata de una cadena `raw (cruda)`. \n",
    " * Las cadenas `raw` se distinguen de las normales en que los caracteres escapados mediante la barra invertida (\\) no se sustituyen por sus contrapartidas. Esto es especialmente útil, por ejemplo, para usar las expresiones regulares."
   ]
  },
  {
   "cell_type": "code",
   "execution_count": 17,
   "metadata": {},
   "outputs": [
    {
     "data": {
      "text/plain": [
       "'\\\\t\\\\nHola Mundo'"
      ]
     },
     "execution_count": 17,
     "metadata": {},
     "output_type": "execute_result"
    }
   ],
   "source": [
    "raw = r\"\\t\\nHola Mundo\"\n",
    "raw"
   ]
  },
  {
   "cell_type": "markdown",
   "metadata": {},
   "source": [
    "## Operaciones\n",
    "\n",
    "Las cadenas también admiten operadores aritméticos como los siguientes:\n",
    "\n",
    "## El operador suma `+` \n",
    "\n",
    "Para realizar concatenación de cadenas de caracteres"
   ]
  },
  {
   "cell_type": "code",
   "execution_count": 18,
   "metadata": {},
   "outputs": [
    {
     "data": {
      "text/plain": [
       "'unodos'"
      ]
     },
     "execution_count": 18,
     "metadata": {},
     "output_type": "execute_result"
    }
   ],
   "source": [
    "a, b = \"uno\",  \"dos\"\n",
    "a+b"
   ]
  },
  {
   "cell_type": "markdown",
   "metadata": {},
   "source": [
    "## Operador multiplicación  `*`\n",
    "\n",
    "para repetir la cadena de caracteres por N veces definidas en la multiplicación"
   ]
  },
  {
   "cell_type": "code",
   "execution_count": 19,
   "metadata": {},
   "outputs": [
    {
     "data": {
      "text/plain": [
       "'TRESTRESTRES'"
      ]
     },
     "execution_count": 19,
     "metadata": {},
     "output_type": "execute_result"
    }
   ],
   "source": [
    "c = \"TRES\"\n",
    "c * 3"
   ]
  },
  {
   "cell_type": "markdown",
   "metadata": {},
   "source": [
    "## Docstrings\n",
    "\n",
    "Todos los Objetos cuentan con una variable especial llamada `__doc__` la cual ayuda a describir un objeto y como se usa "
   ]
  },
  {
   "cell_type": "markdown",
   "metadata": {},
   "source": [
    "## Funciones"
   ]
  },
  {
   "cell_type": "code",
   "execution_count": 20,
   "metadata": {},
   "outputs": [
    {
     "name": "stdout",
     "output_type": "stream",
     "text": [
      "Help on function hola in module __main__:\n",
      "\n",
      "hola(arg)\n",
      "    El Doc String de la Función\n",
      "\n"
     ]
    }
   ],
   "source": [
    "def hola(arg):\n",
    "    \"\"\"El Doc String de la Función\"\"\"\n",
    "    print(f'¡Hola {arg}')\n",
    "\n",
    "#consultar documentación\n",
    "help(hola)    "
   ]
  },
  {
   "cell_type": "markdown",
   "metadata": {},
   "source": [
    "## Clases Y Métodos"
   ]
  },
  {
   "cell_type": "code",
   "execution_count": 21,
   "metadata": {},
   "outputs": [
    {
     "name": "stdout",
     "output_type": "stream",
     "text": [
      "Help on Clase in module __main__ object:\n",
      "\n",
      "class Clase(builtins.object)\n",
      " |  EL Docstring de la clase\n",
      " |\n",
      " |  Methods defined here:\n",
      " |\n",
      " |  __init__(self)\n",
      " |      El Docstring del Constructor de la Clase\n",
      " |\n",
      " |  metodo(self)\n",
      " |      El Docstring del Método de la Clase\n",
      " |\n",
      " |  ----------------------------------------------------------------------\n",
      " |  Data descriptors defined here:\n",
      " |\n",
      " |  __dict__\n",
      " |      dictionary for instance variables\n",
      " |\n",
      " |  __weakref__\n",
      " |      list of weak references to the object\n",
      "\n"
     ]
    }
   ],
   "source": [
    "class Clase:\n",
    "    \"\"\"EL Docstring de la clase\"\"\"\n",
    "    def __init__(self):\n",
    "        \"\"\"El Docstring del Constructor de la Clase\"\"\"\n",
    "    def metodo(self):    \n",
    "        \"\"\"El Docstring del Método de la Clase\"\"\"\n",
    "\n",
    "o = Clase()\n",
    "#Obtener la informacion general de la clase\n",
    "help(o)        "
   ]
  },
  {
   "cell_type": "code",
   "execution_count": 22,
   "metadata": {},
   "outputs": [
    {
     "data": {
      "text/plain": [
       "'EL Docstring de la clase'"
      ]
     },
     "execution_count": 22,
     "metadata": {},
     "output_type": "execute_result"
    }
   ],
   "source": [
    "o.__doc__"
   ]
  },
  {
   "cell_type": "code",
   "execution_count": 23,
   "metadata": {},
   "outputs": [
    {
     "data": {
      "text/plain": [
       "'El Docstring del Constructor de la Clase'"
      ]
     },
     "execution_count": 23,
     "metadata": {},
     "output_type": "execute_result"
    }
   ],
   "source": [
    "o.__init__.__doc__"
   ]
  },
  {
   "cell_type": "code",
   "execution_count": 24,
   "metadata": {},
   "outputs": [
    {
     "data": {
      "text/plain": [
       "'El Docstring del Método de la Clase'"
      ]
     },
     "execution_count": 24,
     "metadata": {},
     "output_type": "execute_result"
    }
   ],
   "source": [
    "o.metodo.__doc__"
   ]
  },
  {
   "cell_type": "markdown",
   "metadata": {},
   "source": [
    "## Formateo %\n",
    "\n",
    "El caracter % es conocido como el operador de interpolación, seguido por el tipo que necesita ser formateado o convertido.\n",
    "\n",
    "Con esta sintaxis hay que determinar el tipo del objeto:\n",
    "\n",
    "%c = str, simple carácter.\n",
    "\n",
    "%s = str, cadena de carácter.\n",
    "\n",
    "%d = int, enteros.\n",
    "\n",
    "%f = float, coma flotante.\n",
    "\n",
    "%o = octal.\n",
    "\n",
    "%x = hexadecimal."
   ]
  },
  {
   "cell_type": "code",
   "execution_count": 25,
   "metadata": {},
   "outputs": [
    {
     "name": "stdout",
     "output_type": "stream",
     "text": [
      "El resultado de raiz cuadrada de dos es 1.414214\n"
     ]
    }
   ],
   "source": [
    "tipo_calculo ='raiz cuadrada de dos'\n",
    "valor = 2**0.5\n",
    "print(\"El resultado de %s es %f\" % (tipo_calculo, valor))"
   ]
  }
 ],
 "metadata": {
  "kernelspec": {
   "display_name": "venv",
   "language": "python",
   "name": "python3"
  },
  "language_info": {
   "codemirror_mode": {
    "name": "ipython",
    "version": 3
   },
   "file_extension": ".py",
   "mimetype": "text/x-python",
   "name": "python",
   "nbconvert_exporter": "python",
   "pygments_lexer": "ipython3",
   "version": "3.13.2"
  }
 },
 "nbformat": 4,
 "nbformat_minor": 2
}
