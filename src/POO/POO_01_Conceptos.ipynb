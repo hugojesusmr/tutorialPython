{
 "cells": [
  {
   "cell_type": "markdown",
   "metadata": {},
   "source": [
    "# Programación Orientada a Objetos\n",
    "\n",
    "Es un paradigna de programación que viene a innovar la forma de obtener resultados, donde los objetos manipulan los datos de entrada para la obtención de datos de salida donde cada objeto ofrece una funcionalidad especial.\n",
    "\n",
    "## Caracteristicas\n",
    "\n",
    "* Todo es un objeto, incluyendo los tipos y clases.\n",
    "* Permite Herencia multiple.\n",
    "* No existen métodos y atributos privados.\n",
    "* Los atributos pueden ser modificados directamente.\n",
    "* Permite la sobrecarga de operadores.\n",
    "* Permite la creación de nuevos tipos de datos."
   ]
  },
  {
   "cell_type": "markdown",
   "metadata": {
    "vscode": {
     "languageId": "plaintext"
    }
   },
   "source": [
    "# Objetos\n",
    "\n",
    "Los objetos son abstracción de datos y cada objeto tiene una identidad, un tipo y un valor.\n",
    "\n",
    "## Identidad \n",
    "Una vez creado un objeto nunca cambia \n",
    "\n",
    "## Tipo \n",
    "\n",
    "El tipo de objeto determina las operaciones que admite el objeto, \n",
    "\n",
    "## Valor\n",
    "\n",
    "Define los valores posibles para los objetos de ese tipo.\n",
    "\n",
    "## Mutabilidad\n",
    "\n",
    "La Mutabilidad de un pbjeto esta determinada por su tipo.\n",
    "### Mutables\n",
    "   * Son objetos que pueden cambiar una vez creados por ejemplo: listas, diccionarios\n",
    "\n",
    "### Inmutables\n",
    "   * Son objetos que no pueden cambiar una vez creados por ejemplo: numeros, strings, tuplas\n",
    "       \n"
   ]
  }
 ],
 "metadata": {
  "language_info": {
   "name": "python"
  }
 },
 "nbformat": 4,
 "nbformat_minor": 2
}
