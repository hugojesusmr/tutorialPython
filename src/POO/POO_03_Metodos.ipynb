{
 "cells": [
  {
   "cell_type": "markdown",
   "metadata": {},
   "source": [
    "# Métodos\n",
    "\n",
    "* Describen el comportamiento de los objetos de una clase \n",
    "* Representan las operaciones que se pueden realizar con los objetos de la clase donde la ejecución de un método puede conducir a cambiar el estado del objeto.\n",
    "* La diferencia sintáctica entre definición de un método y la definición de una función es que el primer parámetro del método por convención debe ser `self`\n",
    "\n",
    "## Definición de un Método:\n",
    "\n",
    "* Se definen de la misma forma que una función normal.\n",
    "* Se deben de declarar dentro de la clase.\n",
    "* Su primer argumento hace referenia a la instania que la llama.\n"
   ]
  },
  {
   "cell_type": "markdown",
   "metadata": {},
   "source": [
    "## Ambito de los Métodos\n",
    "\n",
    "Los métodos cuentan con un espacio de nombres propios, en caso de no encontrar un nombre en su ambito local,<br>buscara en el ambito superior\n",
    "hasta encontrar una coincidencia.\n",
    "\n",
    "Los métodos pueden acceder y crear atributos dentro del objeto al que pertenecen como:\n",
    "* Anteponiendo la palabra `self` \n",
    "* uso del operador de atributo `.` antes del nombre del atributo en cuestion."
   ]
  },
  {
   "cell_type": "markdown",
   "metadata": {},
   "source": [
    "## Métodos Especiales\n",
    "\n",
    "* Las clases en Python cuentan con múltiples métodos especiales, los cuales se encuentran entre dobles guiones bajos __<metodo>__().\n",
    "* Los métodos especiales más utilizados son __init__(), __str__() y __del__()"
   ]
  },
  {
   "cell_type": "markdown",
   "metadata": {},
   "source": [
    "# Método __init__()\n",
    "Es un método especial, el cual se ejecuta al momento de instanciar un objeto. El comportamiento de __init__() es muy similar a los «constructores» en otros lenguajes. \n",
    "Los argumentos que se utilizan en la definición de __init__() corresponden a los parámetros que se deben ingresar al instanciar un objeto."
   ]
  },
  {
   "cell_type": "markdown",
   "metadata": {},
   "source": [
    "## Método  __str__() \n",
    "Es un método especial, el cual se ejecuta al momento en el cual un objeto se manda a mostrar, es decir es una cadena representativa de la clase, la cual puede incluir formatos personalizados de presentación del mismo."
   ]
  },
  {
   "cell_type": "markdown",
   "metadata": {},
   "source": [
    "## Método __del__():\n",
    " \n",
    "Es un método especial, el cual se ejecuta al momento en el cual un objeto es descartado por el intérprete. El comportamiento de __del__() es muy similar a los «destructores» en otros lenguajes."
   ]
  },
  {
   "cell_type": "code",
   "execution_count": 21,
   "metadata": {},
   "outputs": [
    {
     "name": "stdout",
     "output_type": "stream",
     "text": [
      "Nombre: Hugo\n",
      "Edad:39\n"
     ]
    }
   ],
   "source": [
    "class Persona:\n",
    "    def __init__(self, nombre, edad):\n",
    "        self.nombre = nombre\n",
    "        self.edad = edad\n",
    "\n",
    "    def __str__(self):\n",
    "        return f\"Nombre: {self.nombre}\\nEdad:{self.edad}\"\n",
    "\n",
    "\n",
    "p = Persona(\"Hugo\", 39)\n",
    "print(p)        \n",
    "\n"
   ]
  },
  {
   "cell_type": "markdown",
   "metadata": {},
   "source": [
    "# Métodos de clase\n",
    "\n",
    "* En ocasiones es necesario contar con métodos que interactúen con elementos de la clase de la cual el objeto es instanciado. Python permite definir métodos de clase para esto.\n",
    "\n",
    "* Los métodos de clase son aquellos que están ligados directamente con los atributos definidos en la clase que los contiene. Para definir un método de clase se utiliza el decorador `@classmethod` y por convención se utiliza `cls` como argumento inicial en lugar de self.\n",
    "\n",
    "* Del mismo modo, los métodos de clase utilizan el prefijo `cls` para referirse a los atributos de la clase.\n",
    "\n"
   ]
  },
  {
   "cell_type": "code",
   "execution_count": 25,
   "metadata": {},
   "outputs": [
    {
     "name": "stdout",
     "output_type": "stream",
     "text": [
      "Hola, me llamo Hugo y tengo 39 años.\n",
      "Hola, me llamo Jesus y tengo 29 años.\n",
      "Total de Instancias Creadas:  2\n"
     ]
    }
   ],
   "source": [
    "class Persona:\n",
    "    contar_personas = 0\n",
    "    def __init__(self, nombre, edad):\n",
    "        self.nombre = nombre\n",
    "        self.edad = edad\n",
    "        Persona.contar_personas += 1\n",
    "    \n",
    "    @classmethod\n",
    "    def get_cont(cls):\n",
    "        \"\"\"Método de clase que devuelve el número de instalcias creadas\"\"\"\n",
    "        return  cls.contar_personas\n",
    "    \n",
    "    def saludar(self):\n",
    "        \"Método de instancia que devuelve un saludo\"\n",
    "        return f\"Hola, me llamo {self.nombre} y tengo {self.edad} años.\"\n",
    "\n",
    "\n",
    "p1 =Persona(\"Hugo\",39)\n",
    "p2 =Persona(\"Jesus\",29)\n",
    "print(p1.saludar())\n",
    "print(p2.saludar())\n",
    "\n",
    "print(\"Total de Instancias Creadas: \",Persona.get_cont())"
   ]
  }
 ],
 "metadata": {
  "kernelspec": {
   "display_name": "venv",
   "language": "python",
   "name": "python3"
  },
  "language_info": {
   "codemirror_mode": {
    "name": "ipython",
    "version": 3
   },
   "file_extension": ".py",
   "mimetype": "text/x-python",
   "name": "python",
   "nbconvert_exporter": "python",
   "pygments_lexer": "ipython3",
   "version": "3.13.2"
  }
 },
 "nbformat": 4,
 "nbformat_minor": 2
}
