{
 "cells": [
  {
   "cell_type": "markdown",
   "metadata": {},
   "source": [
    "# Clase\n",
    "\n",
    "* Las clases definen las características del objeto, se puede decir que una clase es una plantilla genérica de un objeto. \n",
    "* La clase proporciona variables iniciales de estado (donde se guardan los atributos) e implementaciones de comportamiento (métodos) necesarias para crear nuevos objetos, son los modelos sobre los cuáles serán construidos.\n",
    "* En python se puede definir una clase con la palabra reservada `class`\n",
    "* \n",
    "## Sintaxis\n",
    " \n",
    " * Se escriben por convención capitalizada\n",
    "\n",
    "* Ejemplo: \n",
    "  `class Persona:`\n",
    "\n"
   ]
  },
  {
   "cell_type": "markdown",
   "metadata": {},
   "source": [
    "# Atributos\n",
    "\n",
    "Los atributos o propiedades de los objetos son las características que puede tener un objeto, si el objeto es **Persona**, los atributos podrian ser: **cedula**, **nombre**, **apellido**, **sexo**, etc.."
   ]
  },
  {
   "cell_type": "code",
   "execution_count": 1,
   "metadata": {},
   "outputs": [],
   "source": [
    "class Persona:\n",
    "    \"\"\"Clase que representa una Persona\"\"\"\n",
    "    cedula = 'aswd23dsdwqw'\n",
    "    nombre = 'Leo'\n",
    "    apellido = 'Nardo'\n",
    "    sexo = 'M'"
   ]
  },
  {
   "cell_type": "markdown",
   "metadata": {},
   "source": [
    "## Ejercicio 1 \n",
    "Creando una instancia del objeto persona y acceder a los atributos"
   ]
  },
  {
   "cell_type": "code",
   "execution_count": null,
   "metadata": {},
   "outputs": [
    {
     "data": {
      "text/plain": [
       "type"
      ]
     },
     "execution_count": 9,
     "metadata": {},
     "output_type": "execute_result"
    }
   ],
   "source": [
    "persona = Persona\n",
    "persona.cedula\n"
   ]
  },
  {
   "cell_type": "markdown",
   "metadata": {},
   "source": [
    "# función `dir()` \n",
    " \n",
    " Se utiliza para obtener una lista de los nombres (atributos y métodos) que están definidos en un objeto."
   ]
  },
  {
   "cell_type": "code",
   "execution_count": null,
   "metadata": {},
   "outputs": [],
   "source": [
    "dir(persona)"
   ]
  },
  {
   "cell_type": "markdown",
   "metadata": {},
   "source": []
  },
  {
   "cell_type": "markdown",
   "metadata": {},
   "source": [
    "# Ejercicio 2\n",
    "\n",
    "En la clase Persona defina un metodo hablar"
   ]
  },
  {
   "cell_type": "code",
   "execution_count": 2,
   "metadata": {},
   "outputs": [],
   "source": [
    "class Persona:\n",
    "    \"\"\"Clase que representa una Persona\"\"\"\n",
    "\n",
    "    cedula = \"asdqweq\"\n",
    "    nombre = 'paquito'\n",
    "    apellido = \"peluches\"\n",
    "\n",
    "    def hablar(self, mensaje):\n",
    "        \"\"\"Mostrar mensaje de saludo de Persona\"\"\"\n",
    "        return mensaje "
   ]
  },
  {
   "cell_type": "markdown",
   "metadata": {},
   "source": [
    "# Ejercicio 3\n",
    "\n",
    "Cree una instacia del objeto persona e imprima el nombre del objeto y su documentacion"
   ]
  },
  {
   "cell_type": "code",
   "execution_count": 3,
   "metadata": {},
   "outputs": [
    {
     "name": "stdout",
     "output_type": "stream",
     "text": [
      "El objeto de la clase Persona, Clase que representa una Persona.\n"
     ]
    }
   ],
   "source": [
    "p = Persona\n",
    "print(\"El objeto de la clase {}, {}.\".format(p.__name__, p.__doc__))  "
   ]
  },
  {
   "cell_type": "markdown",
   "metadata": {},
   "source": [
    "# Ejercicio 4\n",
    "\n",
    "Imprima los valores de los atributos"
   ]
  },
  {
   "cell_type": "code",
   "execution_count": 4,
   "metadata": {},
   "outputs": [
    {
     "name": "stdout",
     "output_type": "stream",
     "text": [
      "Hola, mucho gusto, mi nombe es 'paquito peluches',\n",
      "mi cedula de identidad es 'asdqweq',\n"
     ]
    }
   ],
   "source": [
    "print(\"Hola, mucho gusto, mi nombe es '{} {}',\\nmi cedula de identidad es '{}',\".format(p.nombre,p.apellido, p.cedula))"
   ]
  },
  {
   "cell_type": "markdown",
   "metadata": {},
   "source": [
    "# Ejercicio 5\n",
    "\n",
    "Crear un objeto de tipo Persona y mandar a llar el metodo hablar"
   ]
  },
  {
   "cell_type": "code",
   "execution_count": 5,
   "metadata": {},
   "outputs": [
    {
     "data": {
      "text/plain": [
       "'Hola soy el metodo interno de la clase persona'"
      ]
     },
     "execution_count": 5,
     "metadata": {},
     "output_type": "execute_result"
    }
   ],
   "source": [
    "p = Persona()\n",
    "p.hablar(\"Hola soy el metodo interno de la clase persona\")"
   ]
  },
  {
   "cell_type": "markdown",
   "metadata": {},
   "source": []
  }
 ],
 "metadata": {
  "kernelspec": {
   "display_name": "venv",
   "language": "python",
   "name": "python3"
  },
  "language_info": {
   "codemirror_mode": {
    "name": "ipython",
    "version": 3
   },
   "file_extension": ".py",
   "mimetype": "text/x-python",
   "name": "python",
   "nbconvert_exporter": "python",
   "pygments_lexer": "ipython3",
   "version": "3.13.2"
  }
 },
 "nbformat": 4,
 "nbformat_minor": 2
}
