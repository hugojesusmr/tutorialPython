{
 "cells": [
  {
   "cell_type": "markdown",
   "metadata": {},
   "source": [
    "# Programación Funcional en Python\n",
    "\n",
    "La programación funcional es un paradigma de programación distinto al tradicional estructurado u orientado a objetos, que se basa principalmente en el uso de funciones, siendo las mismas practicamente la única herramienta que el lenguaje nos ofrece.\n",
    "\n",
    "En Python existen tres funciones que proporcionan un enfoque funcional en la programación: `map`, `reduce` y `filter`."
   ]
  },
  {
   "cell_type": "markdown",
   "metadata": {},
   "source": [
    "## Función `reduce()`\n",
    "\n",
    "Sirve para reducir todos los elementos de la entrada a un único valor aplicando un determinado criterio.\n",
    "\n",
    "La función recibe dos argumentos: \n",
    "\n",
    "* El acumulador\n",
    "* Los valores de la lista.\n",
    "\n",
    "`El acumulador:` Es el valor devuelto en la iteración anterior, que va acumulando un resultado hasta que llegamos al final.<br>\n",
    "`El valor:` Es cada uno de los elementos de nuestra lista, que en nuestro caso vamos añadiendo al acumulador."
   ]
  },
  {
   "cell_type": "markdown",
   "metadata": {},
   "source": [
    "## Ejercicio 1\n",
    "\n",
    "Sumar todos los elementos de una lista"
   ]
  },
  {
   "cell_type": "code",
   "execution_count": 1,
   "metadata": {},
   "outputs": [
    {
     "data": {
      "text/plain": [
       "45"
      ]
     },
     "execution_count": 1,
     "metadata": {},
     "output_type": "execute_result"
    }
   ],
   "source": [
    "from functools import reduce\n",
    "\n",
    "numeros = list(range(1,10))\n",
    "suma = reduce(lambda acc, val: acc + val, numeros)\n",
    "suma"
   ]
  },
  {
   "cell_type": "markdown",
   "metadata": {},
   "source": [
    "# Ejercicio 2\n",
    "\n",
    "Dada una lista de personas almacenadas en diccionarios:\n",
    "\n",
    "* Filtrar de acuerdo al sexo\n",
    "* Y calcular la media"
   ]
  },
  {
   "cell_type": "code",
   "execution_count": 6,
   "metadata": {},
   "outputs": [
    {
     "data": {
      "text/plain": [
       "18.5"
      ]
     },
     "execution_count": 6,
     "metadata": {},
     "output_type": "execute_result"
    }
   ],
   "source": [
    "from functools import reduce\n",
    "\n",
    "personas = [\n",
    "    {'Nombre': 'Alicia', 'Edad': 22, 'Sexo': 'F'},\n",
    "    {'Nombre': 'Bob', 'Edad': 25, 'Sexo': 'M'},\n",
    "    {'Nombre': 'Charlie', 'Edad': 33, 'Sexo': 'M'},\n",
    "    {'Nombre': 'Diana', 'Edad': 15, 'Sexo': 'F'},\n",
    "    {'Nombre': 'Esteban', 'Edad': 30, 'Sexo': 'M'},\n",
    "    {'Nombre': 'Federico', 'Edad': 44, 'Sexo': 'M'},\n",
    "]\n",
    "\n",
    "mujeres = list(filter(lambda sexo:sexo['Sexo']=='F', personas))\n",
    "suma_edades = reduce(lambda suma, p:suma + p['Edad'], mujeres,0)\n",
    "media_edad = suma_edades/len(mujeres)\n",
    "media_edad"
   ]
  }
 ],
 "metadata": {
  "kernelspec": {
   "display_name": "venv",
   "language": "python",
   "name": "python3"
  },
  "language_info": {
   "codemirror_mode": {
    "name": "ipython",
    "version": 3
   },
   "file_extension": ".py",
   "mimetype": "text/x-python",
   "name": "python",
   "nbconvert_exporter": "python",
   "pygments_lexer": "ipython3",
   "version": "3.13.2"
  }
 },
 "nbformat": 4,
 "nbformat_minor": 2
}
