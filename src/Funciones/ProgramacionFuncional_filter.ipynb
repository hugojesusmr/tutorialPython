{
 "cells": [
  {
   "cell_type": "markdown",
   "metadata": {},
   "source": [
    "# Programación Funcional en Python\n",
    "\n",
    "La programación funcional es un paradigma de programación distinto al tradicional estructurado u orientado a objetos, que se basa principalmente en el uso de funciones, siendo las mismas practicamente la única herramienta que el lenguaje nos ofrece.\n",
    "\n",
    "En Python existen tres funciones que proporcionan un enfoque funcional en la programación: `map`, `reduce` y `filter`."
   ]
  },
  {
   "cell_type": "markdown",
   "metadata": {},
   "source": [
    "# Función `filter()`\n",
    "\n",
    "se utiliza para filtrar elementos de un iterable (como una lista o una tupla) según una función que devuelve True o False. Los elementos que devuelven True se incluyen en el resultado, mientras que los que devuelven False se excluyen. Al igual que map(), filter() devuelve un objeto de tipo filter, que es un iterador."
   ]
  },
  {
   "cell_type": "markdown",
   "metadata": {},
   "source": [
    "## Sintaxis\n",
    "   `filter(función, iterable)`\n",
    "\n",
    "`función:` Una función que toma un solo argumento y devuelve True o False. Esta función se aplica a cada elemento del iterable.\n",
    "`iterable:` Un iterable como una lista, tupla o cadena."
   ]
  },
  {
   "cell_type": "markdown",
   "metadata": {
    "vscode": {
     "languageId": "plaintext"
    }
   },
   "source": [
    "# Ejercicio 1\n",
    "\n",
    "De forma tradicional cree un programa que saque los elemenos pares de una lista"
   ]
  },
  {
   "cell_type": "code",
   "execution_count": 2,
   "metadata": {},
   "outputs": [
    {
     "data": {
      "text/plain": [
       "[2, 4, 6, 8, 10]"
      ]
     },
     "execution_count": 2,
     "metadata": {},
     "output_type": "execute_result"
    }
   ],
   "source": [
    "numeros = list(range(1,11))\n",
    "pares = []\n",
    "for num in numeros:\n",
    "    if num % 2 == 0:\n",
    "        pares.append(num)\n",
    "\n",
    "pares"
   ]
  },
  {
   "cell_type": "markdown",
   "metadata": {},
   "source": [
    "# Ejercicio 2\n",
    "Utilizando filter cree un programa que saque los elemenos pares de una lista"
   ]
  },
  {
   "cell_type": "code",
   "execution_count": 3,
   "metadata": {},
   "outputs": [
    {
     "data": {
      "text/plain": [
       "[2, 4, 6, 8, 10]"
      ]
     },
     "execution_count": 3,
     "metadata": {},
     "output_type": "execute_result"
    }
   ],
   "source": [
    "numeros = list(range(1,11))\n",
    "\n",
    "pares = list(filter(lambda x: x % 2 == 0,numeros))\n",
    "pares"
   ]
  },
  {
   "cell_type": "markdown",
   "metadata": {},
   "source": [
    "# Ejercicio 3\n",
    "De una lista de elementos obtenga los que contengan una a"
   ]
  },
  {
   "cell_type": "code",
   "execution_count": 5,
   "metadata": {},
   "outputs": [
    {
     "data": {
      "text/plain": [
       "['manzana', 'banana', 'cereza']"
      ]
     },
     "execution_count": 5,
     "metadata": {},
     "output_type": "execute_result"
    }
   ],
   "source": [
    "frutas = ['manzana', 'banana', 'cereza', 'kiwi']\n",
    "frutas_con_a = []\n",
    "\n",
    "for fruta in frutas:\n",
    "    if 'a' in fruta:\n",
    "        frutas_con_a.append(fruta)\n",
    "\n",
    "frutas_con_a"
   ]
  },
  {
   "cell_type": "markdown",
   "metadata": {},
   "source": [
    "# Ejercicio 4\n",
    "\n",
    "Utilizando una función lambda, de una lista de elmentos obtengas los que tengan una a"
   ]
  },
  {
   "cell_type": "code",
   "execution_count": null,
   "metadata": {},
   "outputs": [
    {
     "data": {
      "text/plain": [
       "['manzana', 'banana', 'cereza']"
      ]
     },
     "execution_count": 8,
     "metadata": {},
     "output_type": "execute_result"
    }
   ],
   "source": [
    "frutas = ['manzana', 'banana', 'cereza', 'kiwi']\n",
    "\n",
    "frutas_con_a = list(filter(lambda fruta: 'a' in fruta, frutas))\n",
    "frutas_con_a"
   ]
  }
 ],
 "metadata": {
  "kernelspec": {
   "display_name": "venv",
   "language": "python",
   "name": "python3"
  },
  "language_info": {
   "codemirror_mode": {
    "name": "ipython",
    "version": 3
   },
   "file_extension": ".py",
   "mimetype": "text/x-python",
   "name": "python",
   "nbconvert_exporter": "python",
   "pygments_lexer": "ipython3",
   "version": "3.13.2"
  }
 },
 "nbformat": 4,
 "nbformat_minor": 2
}
