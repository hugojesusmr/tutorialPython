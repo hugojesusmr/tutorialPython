{
 "cells": [
  {
   "cell_type": "markdown",
   "metadata": {},
   "source": [
    "# Args y Kwargs\n",
    "\n",
    "Son dos convenciones que se utilizan para pasar un número variable de argumentos a una función.\n",
    "\n",
    "## `*args`: \n",
    "   * Permite pasar un número variable de argumentos no nombrados a una función. \n",
    "   * Se utiliza cuando no sabes cuántos argumentos se van a pasar.\n",
    "   * Dentro de la función, args se convierte en una tupla que contiene todos los argumentos que se pasaron.\n"
   ]
  },
  {
   "cell_type": "code",
   "execution_count": 1,
   "metadata": {},
   "outputs": [
    {
     "data": {
      "text/plain": [
       "15"
      ]
     },
     "execution_count": 1,
     "metadata": {},
     "output_type": "execute_result"
    }
   ],
   "source": [
    "def sumar(*args):\n",
    "    return sum(args)\n",
    "\n",
    "sumar(1,2,3,4,5)    "
   ]
  },
  {
   "cell_type": "markdown",
   "metadata": {},
   "source": [
    "# `**kwargs:`\n",
    "\n",
    "* Permite pasar un número variable de argumentos nombrados (es decir, argumentos que tienen un nombre o clave) a una función. \n",
    "* Se utiliza cuando no sabes cuántos argumentos nombrados se van a pasar.\n",
    "* Dentro de la función, kwargs se convierte en un diccionario que contiene todos los argumentos nombrados que se pasaron."
   ]
  },
  {
   "cell_type": "code",
   "execution_count": 5,
   "metadata": {},
   "outputs": [
    {
     "name": "stdout",
     "output_type": "stream",
     "text": [
      "nombre: juan\n",
      "edad: 30\n",
      "ciudad: Madrid\n"
     ]
    }
   ],
   "source": [
    "def mostrar_info(**kwargs):\n",
    "    for key, value in kwargs.items():\n",
    "        print(f\"{key}: {value}\")\n",
    "\n",
    "mostrar_info(nombre=\"juan\", edad=30, ciudad=\"Madrid\")"
   ]
  },
  {
   "cell_type": "markdown",
   "metadata": {},
   "source": [
    "# Mezclando *args y **kwargs\n",
    "\n",
    "Definir la función en el siguiente orden:\n",
    "\n",
    "  * 1.- Argumentos normales.\n",
    "  * 2.- *args.\n",
    "  * 3.- **kwargs."
   ]
  },
  {
   "cell_type": "code",
   "execution_count": 7,
   "metadata": {},
   "outputs": [
    {
     "name": "stdout",
     "output_type": "stream",
     "text": [
      "a=  10\n",
      "b=  20\n",
      "arg: (1, 2, 3, 4)\n",
      "arg: (1, 2, 3, 4)\n",
      "arg: (1, 2, 3, 4)\n",
      "arg: (1, 2, 3, 4)\n",
      "x = Hola\n",
      "y = Que\n",
      "z = Tal\n"
     ]
    }
   ],
   "source": [
    "def function(a, b, *args, **kwargs):\n",
    "    print(\"a= \", a)\n",
    "    print(\"b= \", b)\n",
    "\n",
    "    for arg in args:\n",
    "        print(\"arg:\", args)\n",
    "    for key, value in kwargs.items():    \n",
    "        print(key, \"=\", value)\n",
    "\n",
    "function(10, 20, 1, 2, 3, 4, x=\"Hola\", y=\"Que\", z=\"Tal\")        "
   ]
  },
  {
   "cell_type": "markdown",
   "metadata": {},
   "source": [
    "# tuple unpacking\n",
    "\n",
    "Haciendo uso de *, podemos extraer los valores de una lista o tupla, y que sean pasados como argumentos a la función."
   ]
  },
  {
   "cell_type": "code",
   "execution_count": 9,
   "metadata": {},
   "outputs": [
    {
     "name": "stdout",
     "output_type": "stream",
     "text": [
      "a=  10\n",
      "b=  20\n",
      "arg:  1\n",
      "arg:  2\n",
      "arg:  3\n",
      "arg:  4\n",
      "arg:  5\n",
      "x = Hola\n",
      "y = Que\n",
      "z = Tal\n"
     ]
    }
   ],
   "source": [
    "def function(a,b, *args, **kwargs):\n",
    "    print(\"a= \", a)\n",
    "    print(\"b= \", b)\n",
    "\n",
    "    for arg in args:\n",
    "        print(\"arg: \", arg)\n",
    "\n",
    "\n",
    "    for key, value in kwargs.items():\n",
    "        print(key, \"=\", value)\n",
    "\n",
    "args = [1,2,3,4,5]\n",
    "kwargs = {\"x\":\"Hola\", \"y\":\"Que\", \"z\":\"Tal\"}            \n",
    "\n",
    "function(10,20,*args,**kwargs)"
   ]
  }
 ],
 "metadata": {
  "kernelspec": {
   "display_name": "venv",
   "language": "python",
   "name": "python3"
  },
  "language_info": {
   "codemirror_mode": {
    "name": "ipython",
    "version": 3
   },
   "file_extension": ".py",
   "mimetype": "text/x-python",
   "name": "python",
   "nbconvert_exporter": "python",
   "pygments_lexer": "ipython3",
   "version": "3.13.2"
  }
 },
 "nbformat": 4,
 "nbformat_minor": 2
}
