{
 "cells": [
  {
   "cell_type": "markdown",
   "metadata": {},
   "source": [
    "# Funciones en Python\n",
    "\n",
    "Para definir nuestras propias funciones se hace de la siguiente forma:\n",
    "\n",
    "* `def`: Palabra clave que se utiliza para definir una función.\n",
    "* `nombre_de_funcion:` Nombre que se le da a la función.\n",
    "* `argumentos:` Parámetros que la función aceptará.\n",
    "* `Código de la función:`va el cuerpo de la función.\n",
    "* `return valor:`valor que la función devolverá al ser llamada.\n",
    "\n",
    "### `def` `nombre_de_funcion` `(argumentos):`<br>\n",
    "### &emsp;`Código de la función`<br>\n",
    "### &emsp;`return valor`\n",
    "\n",
    "## El principio de reusabilidad: \n",
    "\n",
    "Si tenemos un fragmento de código usado en muchos sitios, la mejor solución sería pasarlo a una función. Esto nos evitaría tener código repetido, y que modificarlo fuera más fácil, ya que bastaría con cambiar la función una vez.\n",
    "\n",
    "## El principio de modularidad:\n",
    "\n",
    "En vez de escribir largos trozos de código, es mejor crear módulos o funciones que agrupen ciertos fragmentos de código en funcionalidades específicas, haciendo que el código resultante sea más fácil de leer.\n"
   ]
  },
  {
   "cell_type": "markdown",
   "metadata": {},
   "source": [
    "## Parámetros\n",
    "\n",
    "Son las variables que son definidas en la firma de la función"
   ]
  },
  {
   "cell_type": "markdown",
   "metadata": {},
   "source": [
    "## Argumentos\n",
    "\n",
    "Son los valores que se le pasan a la función cuando son llamadas.\n"
   ]
  },
  {
   "cell_type": "markdown",
   "metadata": {},
   "source": [
    "## Sentencia return\n",
    "\n",
    "El uso de la sentencia return permite realizar dos cosas:\n",
    "\n",
    "* Salir de la función y transferir la ejecución de vuelta a donde se realizó la llamada.\n",
    "* Devolver uno o varios parámetros, fruto de la ejecución de la función."
   ]
  },
  {
   "cell_type": "markdown",
   "metadata": {},
   "source": [
    "## Ejercicio 1.1:\n",
    "\n",
    "Función sin parámetros de entrada ni parámetros de salida."
   ]
  },
  {
   "cell_type": "code",
   "execution_count": null,
   "metadata": {},
   "outputs": [
    {
     "name": "stdout",
     "output_type": "stream",
     "text": [
      "Hello World\n"
     ]
    }
   ],
   "source": [
    "def hello():\n",
    "    print(\"Hello World\")\n",
    "\n",
    "hello()"
   ]
  },
  {
   "cell_type": "markdown",
   "metadata": {},
   "source": [
    "## Ejercicio 1.2\n",
    "\n",
    "Función pasandole un parametro que no retorna ningun valor"
   ]
  },
  {
   "cell_type": "code",
   "execution_count": 3,
   "metadata": {},
   "outputs": [
    {
     "name": "stdout",
     "output_type": "stream",
     "text": [
      "Hola  Hugo\n"
     ]
    }
   ],
   "source": [
    "def di_hola(nombre):\n",
    "    print(\"Hola \", nombre)\n",
    "\n",
    "di_hola(\"Hugo\")    "
   ]
  },
  {
   "cell_type": "markdown",
   "metadata": {},
   "source": [
    "## Ejercicio 1.3\n",
    "\n",
    "Función pasandole dos parametro que retorna un valor"
   ]
  },
  {
   "cell_type": "code",
   "execution_count": 4,
   "metadata": {},
   "outputs": [
    {
     "data": {
      "text/plain": [
       "3"
      ]
     },
     "execution_count": 4,
     "metadata": {},
     "output_type": "execute_result"
    }
   ],
   "source": [
    "def suma(num1, num2):\n",
    "    return num1 + num2\n",
    "\n",
    "suma(1,2)"
   ]
  },
  {
   "cell_type": "markdown",
   "metadata": {},
   "source": [
    "## Ejercicio 1.4\n",
    "\n",
    "Función con argumentos por defecto"
   ]
  },
  {
   "cell_type": "code",
   "execution_count": 5,
   "metadata": {},
   "outputs": [
    {
     "data": {
      "text/plain": [
       "5"
      ]
     },
     "execution_count": 5,
     "metadata": {},
     "output_type": "execute_result"
    }
   ],
   "source": [
    "def suma(num1, num2,num3=0):\n",
    "    return num1 + num2 + num3\n",
    "\n",
    "suma(2,3)"
   ]
  },
  {
   "cell_type": "markdown",
   "metadata": {},
   "source": [
    "## Funciones con Argumentos de longitud variable\n",
    "\n",
    "## Ejercicio 1.5\n",
    "\n",
    "Sume todos los números de entrada que se le pasen, sin importar si son 3 o 100."
   ]
  },
  {
   "cell_type": "code",
   "execution_count": 6,
   "metadata": {},
   "outputs": [
    {
     "data": {
      "text/plain": [
       "15"
      ]
     },
     "execution_count": 6,
     "metadata": {},
     "output_type": "execute_result"
    }
   ],
   "source": [
    "def suma(numeros):\n",
    "    total = 0\n",
    "    for num in numeros:\n",
    "        total += num\n",
    "    return total\n",
    "\n",
    "suma([1,2,3,4,5])    "
   ]
  },
  {
   "cell_type": "markdown",
   "metadata": {},
   "source": [
    "La forma es válida y cumple nuestro requisito, pero realmente no estamos trabajando con argumentos de longitud variable. En realidad tenemos un solo argumento que es una lista de números."
   ]
  },
  {
   "cell_type": "markdown",
   "metadata": {},
   "source": [
    "## Ejercicio 1.6\n",
    "\n",
    "declaramos un argumento con * a la función, esto hará que el argumento que se pase sea empaquetado en una tupla de manera automática. "
   ]
  },
  {
   "cell_type": "code",
   "execution_count": 8,
   "metadata": {},
   "outputs": [
    {
     "data": {
      "text/plain": [
       "40"
      ]
     },
     "execution_count": 8,
     "metadata": {},
     "output_type": "execute_result"
    }
   ],
   "source": [
    "def suma(*args):\n",
    "    total = 0\n",
    "    for num in args:\n",
    "        total += num\n",
    "    return total\n",
    "\n",
    "suma(6,7,8,9,10)    "
   ]
  },
  {
   "cell_type": "markdown",
   "metadata": {},
   "source": [
    "## Ejercicio 1.7\n",
    "\n",
    "Usando doble ** es posible también tener como parámetro de entrada una lista de elementos almacenados en forma de clave y valor. En este caso podemos iterar los valores haciendo uso de items()"
   ]
  },
  {
   "cell_type": "code",
   "execution_count": 16,
   "metadata": {},
   "outputs": [
    {
     "data": {
      "text/plain": [
       "30"
      ]
     },
     "execution_count": 16,
     "metadata": {},
     "output_type": "execute_result"
    }
   ],
   "source": [
    "def suma(**kwargs):\n",
    "    suma = 0\n",
    "    for key, value in kwargs.items():\n",
    "        suma += value\n",
    "    return suma\n",
    "\n",
    "suma(num1=2,num2=4,num3=6,num4=8,num5=10)    "
   ]
  },
  {
   "cell_type": "markdown",
   "metadata": {},
   "source": [
    "## Anotaciones en funciones\n",
    "\n",
    "Las `function annotation`o anotaciones en funciones, nos permite añadir metadatos a las funciones, indicando los tipos esperados tanto de entrada como de salida."
   ]
  },
  {
   "cell_type": "code",
   "execution_count": 17,
   "metadata": {},
   "outputs": [
    {
     "data": {
      "text/plain": [
       "9"
      ]
     },
     "execution_count": 17,
     "metadata": {},
     "output_type": "execute_result"
    }
   ],
   "source": [
    "def multiplicar(num: int) -> int:\n",
    "    return num * 3\n",
    "\n",
    "multiplicar(3)"
   ]
  }
 ],
 "metadata": {
  "kernelspec": {
   "display_name": "venv",
   "language": "python",
   "name": "python3"
  },
  "language_info": {
   "codemirror_mode": {
    "name": "ipython",
    "version": 3
   },
   "file_extension": ".py",
   "mimetype": "text/x-python",
   "name": "python",
   "nbconvert_exporter": "python",
   "pygments_lexer": "ipython3",
   "version": "3.13.2"
  }
 },
 "nbformat": 4,
 "nbformat_minor": 2
}
