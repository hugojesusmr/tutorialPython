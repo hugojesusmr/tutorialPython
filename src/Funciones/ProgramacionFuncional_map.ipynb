{
 "cells": [
  {
   "cell_type": "markdown",
   "metadata": {},
   "source": [
    "# Programación Funcional en Python\n",
    "\n",
    "La programación funcional es un paradigma de programación distinto al tradicional estructurado u orientado a objetos, que se basa principalmente en el uso de funciones, siendo las mismas practicamente la única herramienta que el lenguaje nos ofrece.\n",
    "\n",
    "En Python existen tres funciones que proporcionan un enfoque funcional en la programación: `map`, `reduce` y `filter`."
   ]
  },
  {
   "cell_type": "markdown",
   "metadata": {},
   "source": [
    "## Función `map()`\n",
    "\n",
    "La función map toma dos entradas:\n",
    "\n",
    "* Una función, que será aplicada a cada uno de los elementos de la lista o iterable.\n",
    "* Una lista o iterable que será modificado en una nueva.\n",
    "* Devuelve una nueva lista donde todos y cada uno de los elementos de la lista original han sido pasados por la función.\n",
    "\n",
    "### sintaxis: \n",
    " `map(funcion_a_aplicar, entrada_iterable)`\n",
    "* **función**: Una función que toma uno o más argumentos y devuelve un valor. Esta función se aplica a cada elemento del iterable.\n",
    "* **iterable**: Un iterable como una lista, tupla o cadena. También puedes pasar múltiples iterables si la función toma varios argumentos.\n"
   ]
  },
  {
   "cell_type": "markdown",
   "metadata": {},
   "source": [
    "## Ejercicio 1\n",
    "\n",
    "De forma tradicional, de una lista de números, crear otra lista de números elevados al cuadrado"
   ]
  },
  {
   "cell_type": "code",
   "execution_count": 9,
   "metadata": {},
   "outputs": [
    {
     "data": {
      "text/plain": [
       "[1, 4, 9, 16]"
      ]
     },
     "execution_count": 9,
     "metadata": {},
     "output_type": "execute_result"
    }
   ],
   "source": [
    "numeros = list(range(1,5))\n",
    "cuadrado = []\n",
    "\n",
    "for num in numeros:\n",
    "    cuadrado.append(num*num)\n",
    "\n",
    "cuadrado"
   ]
  },
  {
   "cell_type": "markdown",
   "metadata": {},
   "source": [
    "## Ejercicio 2\n",
    "\n",
    "De enfoque funcional, de una lista de números, crear otra lista de números elevados al cuadrado"
   ]
  },
  {
   "cell_type": "code",
   "execution_count": 18,
   "metadata": {},
   "outputs": [
    {
     "data": {
      "text/plain": [
       "[1, 4, 9, 16, 25]"
      ]
     },
     "execution_count": 18,
     "metadata": {},
     "output_type": "execute_result"
    }
   ],
   "source": [
    "numeros = [1,2,3,4,5]\n",
    "\n",
    "cuadrado = list(map(lambda x: x*x, numeros))\n",
    "cuadrado"
   ]
  },
  {
   "cell_type": "markdown",
   "metadata": {},
   "source": [
    "## Ejercicio 3\n",
    "\n",
    "De enfoque funcional, de una lista de números, crear otra lista de números elevados al cuadrado"
   ]
  },
  {
   "cell_type": "code",
   "execution_count": null,
   "metadata": {},
   "outputs": [
    {
     "name": "stdout",
     "output_type": "stream",
     "text": [
      "[1, 4, 9, 16, 25]\n"
     ]
    }
   ],
   "source": [
    "numeros = [1,2,3,4,5]\n",
    "\n",
    "def cuadrado(num):\n",
    "    return num*num\n",
    "\n",
    "lista_al_cuadrado = map(cuadrado, numeros)\n",
    "\n",
    "print(list(lista_al_cuadrado))"
   ]
  },
  {
   "cell_type": "markdown",
   "metadata": {},
   "source": [
    "## Ejercicio 4\n",
    "\n",
    "compactando el ejercicio anterio con lambda"
   ]
  },
  {
   "cell_type": "code",
   "execution_count": 15,
   "metadata": {},
   "outputs": [
    {
     "data": {
      "text/plain": [
       "[1, 4, 9, 16, 25]"
      ]
     },
     "execution_count": 15,
     "metadata": {},
     "output_type": "execute_result"
    }
   ],
   "source": [
    "numeros = [1,2,3,4,5]\n",
    "\n",
    "list_squared = list(map(lambda x: x*x, numeros))\n",
    "list_squared"
   ]
  }
 ],
 "metadata": {
  "kernelspec": {
   "display_name": "venv",
   "language": "python",
   "name": "python3"
  },
  "language_info": {
   "codemirror_mode": {
    "name": "ipython",
    "version": 3
   },
   "file_extension": ".py",
   "mimetype": "text/x-python",
   "name": "python",
   "nbconvert_exporter": "python",
   "pygments_lexer": "ipython3",
   "version": "3.13.2"
  }
 },
 "nbformat": 4,
 "nbformat_minor": 2
}
