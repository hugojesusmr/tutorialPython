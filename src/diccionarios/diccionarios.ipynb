{
 "cells": [
  {
   "cell_type": "markdown",
   "id": "fac2dc26",
   "metadata": {},
   "source": [
    "# Diccionarios\n",
    "\n",
    "* Definen una relación uno a uno entre claves y valores.\n",
    "* Un objeto mapping mapea valores hashable a objetos arbitrariamente.\n",
    "* Los objetos mapeables son objetos mutables.\n",
    "\n",
    "## Sintaxis:\n",
    "  * mi_dict = {}\n",
    "\n",
    "\n",
    "\n"
   ]
  },
  {
   "cell_type": "markdown",
   "id": "65569b46",
   "metadata": {},
   "source": [
    "## Ejercicio 1\n",
    "\n",
    "Crear un Diccionario"
   ]
  },
  {
   "cell_type": "code",
   "execution_count": null,
   "id": "682e9717",
   "metadata": {},
   "outputs": [
    {
     "data": {
      "text/plain": [
       "{'key 1': 1234, 'key 2': True, 'key 3': 'Valor 1', 'key 4': [1, 2, 3, 4, 5]}"
      ]
     },
     "execution_count": 1,
     "metadata": {},
     "output_type": "execute_result"
    }
   ],
   "source": [
    "mi_dict = {\n",
    "    \"key 1\": 1234,\n",
    "    \"key 2\": True,\n",
    "    \"key 3\": \"Valor 1\",\n",
    "    \"key 4\": [1,2,3,4,5],\n",
    "    }  \n",
    "\n",
    "mi_dict"
   ]
  },
  {
   "cell_type": "markdown",
   "id": "c2078075",
   "metadata": {},
   "source": [
    "## Ejercicio 2\n",
    "\n",
    "Acceder a los valores del diccionario"
   ]
  },
  {
   "cell_type": "code",
   "execution_count": 2,
   "id": "a8ab979e",
   "metadata": {},
   "outputs": [
    {
     "data": {
      "text/plain": [
       "1234"
      ]
     },
     "execution_count": 2,
     "metadata": {},
     "output_type": "execute_result"
    }
   ],
   "source": [
    "mi_dict[\"key 1\"]"
   ]
  },
  {
   "cell_type": "markdown",
   "id": "2579641c",
   "metadata": {},
   "source": [
    "## Ejercicio 3\n",
    "\n",
    "Asignar un valor a una clave"
   ]
  },
  {
   "cell_type": "code",
   "execution_count": 3,
   "id": "11eaf921",
   "metadata": {},
   "outputs": [],
   "source": [
    "mi_dict['key 1'] = '1'"
   ]
  },
  {
   "cell_type": "markdown",
   "id": "dbbdc67e",
   "metadata": {},
   "source": [
    "## Ejercicio 4\n",
    "\n",
    "Verificar si existe una llave en el diccionario"
   ]
  },
  {
   "cell_type": "code",
   "execution_count": 4,
   "id": "ed25d81a",
   "metadata": {},
   "outputs": [
    {
     "data": {
      "text/plain": [
       "True"
      ]
     },
     "execution_count": 4,
     "metadata": {},
     "output_type": "execute_result"
    }
   ],
   "source": [
    "\"key 4\" in mi_dict"
   ]
  },
  {
   "cell_type": "markdown",
   "id": "339dbc00",
   "metadata": {},
   "source": [
    "## Métodos\n",
    "\n",
    "Los objetos de tipo diccionario integra una serie de métodos integrados a continuación:\n"
   ]
  },
  {
   "cell_type": "markdown",
   "id": "332e5bfc",
   "metadata": {},
   "source": [
    "## Método `clear()`\n",
    "\n",
    "Remueve todos los elementos del diccionario"
   ]
  },
  {
   "cell_type": "code",
   "execution_count": 8,
   "id": "b88c5d54",
   "metadata": {},
   "outputs": [
    {
     "data": {
      "text/plain": [
       "{}"
      ]
     },
     "execution_count": 8,
     "metadata": {},
     "output_type": "execute_result"
    }
   ],
   "source": [
    "lenguajes = {\n",
    "    'python' : '3.12',\n",
    "    'java': 20,\n",
    "    'go':6.0 \n",
    "}\n",
    "\n",
    "lenguajes.clear()\n",
    "lenguajes"
   ]
  },
  {
   "cell_type": "markdown",
   "id": "e2bf9f44",
   "metadata": {},
   "source": [
    "## Método `copy()`\n",
    "\n",
    "Devuelve una copia del diccionario"
   ]
  },
  {
   "cell_type": "code",
   "execution_count": 10,
   "id": "ffbd452e",
   "metadata": {},
   "outputs": [
    {
     "data": {
      "text/plain": [
       "{'Mandarina', 'Manzana', 'Pera', 'Uva'}"
      ]
     },
     "execution_count": 10,
     "metadata": {},
     "output_type": "execute_result"
    }
   ],
   "source": [
    "frutas = {'Uva','Manzana','Pera','Mandarina'}\n",
    "otras_frutas = frutas.copy()\n",
    "otras_frutas"
   ]
  },
  {
   "cell_type": "markdown",
   "id": "92462101",
   "metadata": {},
   "source": [
    "Comparar si tienen la misma referencia"
   ]
  },
  {
   "cell_type": "code",
   "execution_count": 12,
   "id": "29fe97dc",
   "metadata": {},
   "outputs": [
    {
     "data": {
      "text/plain": [
       "True"
      ]
     },
     "execution_count": 12,
     "metadata": {},
     "output_type": "execute_result"
    }
   ],
   "source": [
    "frutas==otras_frutas"
   ]
  },
  {
   "cell_type": "code",
   "execution_count": null,
   "id": "8178515e",
   "metadata": {},
   "outputs": [],
   "source": []
  }
 ],
 "metadata": {
  "kernelspec": {
   "display_name": "Python 3",
   "language": "python",
   "name": "python3"
  },
  "language_info": {
   "codemirror_mode": {
    "name": "ipython",
    "version": 3
   },
   "file_extension": ".py",
   "mimetype": "text/x-python",
   "name": "python",
   "nbconvert_exporter": "python",
   "pygments_lexer": "ipython3",
   "version": "3.13.2"
  }
 },
 "nbformat": 4,
 "nbformat_minor": 5
}
