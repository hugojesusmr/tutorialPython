{
 "cells": [
  {
   "cell_type": "markdown",
   "id": "fac2dc26",
   "metadata": {},
   "source": [
    "# Diccionarios\n",
    "\n",
    "* Definen una relación uno a uno entre claves y valores.\n",
    "* Un objeto mapping mapea valores hashable a objetos arbitrariamente.\n",
    "* Los objetos mapeables son objetos mutables.\n",
    "\n",
    "`[Clase    |   Tipo       |  Notas              |    Ejemplo]`<br>\n",
    "  dict     |   Mapeos     |  Mutable sin Orden  |    {'name':'John'}\n",
    "\n",
    "## Sintaxis:\n",
    "  * mi_dict = {}\n",
    "\n",
    "\n",
    "\n"
   ]
  },
  {
   "cell_type": "markdown",
   "id": "65569b46",
   "metadata": {},
   "source": [
    "## Operaciones\n",
    "\n",
    "Los objetos de tipo diccionario permiten una serie de operaciones usando oeradores integrados en el interprete de python para su tratamiento."
   ]
  },
  {
   "cell_type": "markdown",
   "id": "e9011d6d",
   "metadata": {},
   "source": [
    "### Acceder a Valor de la Clave\n",
    "\n",
    "Esta operación le permite acceder a un valor en especifico del diccionario mediate su clave."
   ]
  },
  {
   "cell_type": "code",
   "execution_count": 1,
   "id": "682e9717",
   "metadata": {},
   "outputs": [
    {
     "data": {
      "text/plain": [
       "5.2"
      ]
     },
     "execution_count": 1,
     "metadata": {},
     "output_type": "execute_result"
    }
   ],
   "source": [
    "versiones = {\n",
    "    \"python\": 3.11,\n",
    "    \"zope\": 5.2,\n",
    "    \"plone\": 6.0,\n",
    "    \"Fast API\": 5.12,\n",
    "    }  \n",
    "\n",
    "versiones[\"zope\"]"
   ]
  },
  {
   "cell_type": "markdown",
   "id": "c2078075",
   "metadata": {},
   "source": [
    "## Asignar Valor a Clave\n",
    "\n",
    "Esta operación le permite asignar un valor especifico del diccionario mediente su clave."
   ]
  },
  {
   "cell_type": "code",
   "execution_count": 3,
   "id": "a8ab979e",
   "metadata": {},
   "outputs": [
    {
     "data": {
      "text/plain": [
       "6.0"
      ]
     },
     "execution_count": 3,
     "metadata": {},
     "output_type": "execute_result"
    }
   ],
   "source": [
    "versiones = {\n",
    "    \"python\": 3.11,\n",
    "    \"zope\": 5.2,\n",
    "    \"plone\": None,\n",
    "    \"Fast API\": 5.12,\n",
    "    }  \n",
    "\n",
    "versiones[\"plone\"] = 6.0\n",
    "versiones[\"plone\"] \n"
   ]
  },
  {
   "cell_type": "markdown",
   "id": "2579641c",
   "metadata": {},
   "source": [
    "## Iteración `in`\n",
    "\n",
    "Operador integrado en el interprete de python para validar si un elemento se encuentra dentro de un diccionario"
   ]
  },
  {
   "cell_type": "code",
   "execution_count": 4,
   "id": "11eaf921",
   "metadata": {},
   "outputs": [
    {
     "data": {
      "text/plain": [
       "True"
      ]
     },
     "execution_count": 4,
     "metadata": {},
     "output_type": "execute_result"
    }
   ],
   "source": [
    "versiones = {\n",
    "    \"python\": 3.11,\n",
    "    \"zope\": 5.2,\n",
    "    \"plone\": None,\n",
    "    \"Fast API\": 5.12,\n",
    "    }  \n",
    "\n",
    "\"Fast API\" in versiones"
   ]
  },
  {
   "cell_type": "markdown",
   "id": "339dbc00",
   "metadata": {},
   "source": [
    "## Métodos\n",
    "\n",
    "Los objetos de tipo diccionario integra una serie de métodos integrados a continuación:\n"
   ]
  },
  {
   "cell_type": "markdown",
   "id": "332e5bfc",
   "metadata": {},
   "source": [
    "## Método `clear()`\n",
    "\n",
    "Remueve todos los elementos del diccionario"
   ]
  },
  {
   "cell_type": "code",
   "execution_count": 5,
   "id": "b88c5d54",
   "metadata": {},
   "outputs": [
    {
     "data": {
      "text/plain": [
       "{}"
      ]
     },
     "execution_count": 5,
     "metadata": {},
     "output_type": "execute_result"
    }
   ],
   "source": [
    "lenguajes = {\n",
    "    'python' : '3.12',\n",
    "    'java': 20,\n",
    "    'go':6.0 \n",
    "}\n",
    "\n",
    "lenguajes.clear()\n",
    "lenguajes"
   ]
  },
  {
   "cell_type": "markdown",
   "id": "e2bf9f44",
   "metadata": {},
   "source": [
    "## Método `copy()`\n",
    "\n",
    "Devuelve una copia del diccionario"
   ]
  },
  {
   "cell_type": "code",
   "execution_count": 6,
   "id": "ffbd452e",
   "metadata": {},
   "outputs": [
    {
     "data": {
      "text/plain": [
       "{'Mandarina', 'Manzana', 'Pera', 'Uva'}"
      ]
     },
     "execution_count": 6,
     "metadata": {},
     "output_type": "execute_result"
    }
   ],
   "source": [
    "frutas = {'Uva','Manzana','Pera','Mandarina'}\n",
    "otras_frutas = frutas.copy()\n",
    "otras_frutas"
   ]
  },
  {
   "cell_type": "markdown",
   "id": "92462101",
   "metadata": {},
   "source": [
    "Comparar si tienen la misma referencia"
   ]
  },
  {
   "cell_type": "code",
   "execution_count": 12,
   "id": "29fe97dc",
   "metadata": {},
   "outputs": [
    {
     "data": {
      "text/plain": [
       "True"
      ]
     },
     "execution_count": 12,
     "metadata": {},
     "output_type": "execute_result"
    }
   ],
   "source": [
    "frutas==otras_frutas"
   ]
  },
  {
   "cell_type": "markdown",
   "id": "8178515e",
   "metadata": {},
   "source": [
    "## Método `fromkeys()`\n",
    "\n",
    "Crea un nuevo diccionario con claves a partir de un tipo de dato secuencia, EL valor de `value` por defecto es `None` "
   ]
  },
  {
   "cell_type": "code",
   "execution_count": 7,
   "id": "6183421b",
   "metadata": {},
   "outputs": [
    {
     "name": "stdout",
     "output_type": "stream",
     "text": [
      "Nuevo Diccionario: {'python': None, 'zope': None, 'plone': None}\n"
     ]
    }
   ],
   "source": [
    "secuencia = (\"python\", \"zope\", \"plone\")\n",
    "versiones = dict.fromkeys(secuencia)\n",
    "print(\"Nuevo Diccionario: %s\" % str(versiones))"
   ]
  }
 ],
 "metadata": {
  "kernelspec": {
   "display_name": "Python 3",
   "language": "python",
   "name": "python3"
  },
  "language_info": {
   "codemirror_mode": {
    "name": "ipython",
    "version": 3
   },
   "file_extension": ".py",
   "mimetype": "text/x-python",
   "name": "python",
   "nbconvert_exporter": "python",
   "pygments_lexer": "ipython3",
   "version": "3.13.2"
  }
 },
 "nbformat": 4,
 "nbformat_minor": 5
}
