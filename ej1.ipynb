{
 "cells": [
  {
   "cell_type": "code",
   "execution_count": 7,
   "metadata": {},
   "outputs": [
    {
     "name": "stdout",
     "output_type": "stream",
     "text": [
      "Mercury has 0 moons and has polar circumference of 9999\n"
     ]
    }
   ],
   "source": [
    "planet = {\n",
    "    \"name\": \"Mercury\",\n",
    "    \"moons\":0,\n",
    "}\n",
    "\n",
    "# print(f\"{planet['name']} has {planet['moons']} moons\")\n",
    "\n",
    "planet[\"circumference (km)\"]={\n",
    "    \"polar\": 9999,\n",
    "    \"equatorial\": 9999\n",
    "}\n",
    "\n",
    "print(f\"{planet['name']} has {planet['moons']} moons and has polar circumference of {planet['circumference (km)']['polar']}\")"
   ]
  },
  {
   "cell_type": "code",
   "execution_count": 15,
   "metadata": {},
   "outputs": [
    {
     "name": "stdout",
     "output_type": "stream",
     "text": [
      "12\n"
     ]
    }
   ],
   "source": [
    "planet_moons = {\n",
    "    \"mercury\": 0,\n",
    "    \"venus\": 0,\n",
    "    \"earth\": 1,\n",
    "    \"mars\": 2,\n",
    "    \"jupiter\": 79,\n",
    "    \"saturn\": 82,\n",
    "    \"uranus\": 27,\n",
    "    \"neptune\": 14,\n",
    "    \"pluto\": 5,\n",
    "    \"haumea\": 2,\n",
    "    \"makemake\": 1,\n",
    "    \"eris\": 1\n",
    "}\n",
    "# total_moons = 0\n",
    "# for v in planet_moons.values():\n",
    "#     total_moons = total_moons + v\n",
    "\n",
    "#print(f\" the total number of moons in the solar system {total_moons}\")\n",
    "\n",
    "moons_total = planet_moons.values()\n",
    "total_planets = len(planet_moons.keys())\n",
    "print(total_planets)"
   ]
  }
 ],
 "metadata": {
  "kernelspec": {
   "display_name": "Python 3",
   "language": "python",
   "name": "python3"
  },
  "language_info": {
   "codemirror_mode": {
    "name": "ipython",
    "version": 3
   },
   "file_extension": ".py",
   "mimetype": "text/x-python",
   "name": "python",
   "nbconvert_exporter": "python",
   "pygments_lexer": "ipython3",
   "version": "3.12.1"
  }
 },
 "nbformat": 4,
 "nbformat_minor": 2
}
