{
 "cells": [
  {
   "cell_type": "markdown",
   "metadata": {},
   "source": [
    "# ¿Qué es la programación orientada a objetos?</br>\n",
    "\n",
    "* Es un paradigna de progración, es decir, se basa en la idea de agrupar los datos y se conocen como objetos.</br>\n",
    "\n",
    "* Independientemente del paradigma que se use, los programas utilizan la misma serie de pasos para solucionar problemas:</br>\n",
    "\n",
    "**1.- Entrada de datos:**</br> \n",
    "* Los datos se leen desde cualquier lugar, que podría ser un almacenamiento de datos como un sistema de archivos o una base de datos.</br>\n",
    "\n",
    "**2.- Procesamiento:**</br> \n",
    "* Los datos se interpretan y, posiblemente, se modifican para representarlos.</br>\n",
    "\n",
    "**3.- Salida de datos:**</br> \n",
    "* Los datos se presentan para que un usuario físico o un sistema pueda leerlos e interactuar con ellos.</br>\n",
    "\n",
    "* Destaca por su visión del mundo, es decir, examina de manera mas profunda y amplia es decir, modela lo que ve.</br>\n",
    "\n",
    "## Pasos para el Modelado de OOP:</br>\n",
    "\n",
    "* 1.- Se examina la descripción de un donimio.</br>\n",
    "* 2.- Identificación de los actores, se denominan actores porque actuan y realiazan una acción</br>\n",
    "* 3.- Una vez que ha identificado los actores, se examina qué hacen, su comportamiento.</br>\n",
    "* 4.- Se examinan las descripciones de los actores y los datos necesarios para llevar a cabo la acción</br>\n",
    "* 5.- Los actores se convierten en objetos, los rasgos se codifican como datos en los objetos y los comportamientos son funciones que también se agregan al objeto.</br>\n",
    "\n",
    "### Ejemplo:</br>\n",
    "\n",
    "* impresora es un actor</br>\n",
    "* imprime es la acción</br>\n",
    "\n"
   ]
  },
  {
   "cell_type": "markdown",
   "metadata": {},
   "source": [
    "## Ventajas de la POO\n",
    "\n",
    "**Encapsulación de datos:**</br> \n",
    "\n",
    "* La encapsulación de datos consiste en ocultar los datos del resto del sistema y solo permitir el acceso a partes de este,</br>  \n",
    "  los datos tienen un estado y ese estado puede estar formado por una o más variables. \n",
    "\n",
    "* Si hay que cambiar estas variables al mismo tiempo, debe protegerlas y permitir solo el acceso a través de métodos públicos </br> \n",
    "  para que los cambios se realicen de una manera predecible. \n",
    "\n",
    "* Tiene mecanismos como los niveles de acceso, donde los datos de un objeto solo son accesibles para el propio objeto,</br>  \n",
    "  o bien pueden estar disponibles de forma pública.\n",
    "\n",
    "**Simplicidad:**</br> \n",
    "* La capacidad de dividir la complejidad en problemas más pequeños, en objetos, significa que puede simplificar la tarea global.\n",
    "\n",
    "**Facilidad**</br> \n",
    "Cuando se basa en objetos y modela el sistema con ellos, es más fácil realizar el seguimiento de qué partes del sistema se deben modificar. \n",
    "\n",
    "* Por ejemplo:</br>\n",
    " Corregir un error o agregar una característica nueva.\n",
    "\n",
    "**Capacidad de mantenimiento:**</br> \n",
    "\n",
    "* El uso de objetos facilita la búsqueda de un área concreta del código que necesita mantenimiento.\n",
    "\n",
    "**Reusabilidad:**</br> \n",
    "\n",
    "* Al reutilizar el código, se ahorra tiempo y dinero, porque así se escribe menos código y se llega más rápido al destino."
   ]
  },
  {
   "cell_type": "markdown",
   "metadata": {},
   "source": [
    "# Modelado de un sistema de POO\n",
    "\n",
    "El uso de POO se basa tanto en modelar como en escribir el código para implementar su lógica y aprender a identificar a los actores, los datos necesarios y el tipo de</br> interacción que se produce."
   ]
  },
  {
   "cell_type": "markdown",
   "metadata": {},
   "source": [
    "Búsqueda de objetos, datos y comportamiento\n",
    "Puede encontrar los diferentes artefactos del sistema si formula las preguntas siguientes:\n",
    "\n",
    "¿Quién interactúa con quién?\n",
    "¿Quién hace qué a quién?"
   ]
  },
  {
   "cell_type": "markdown",
   "metadata": {},
   "source": [
    "# Qué es un objeto?</br>\n",
    "\n",
    "Un objeto es un actor, es algo que hace algo dentro de un sistema y da como resultado de realizar una acción, cambiando el estado dentro de sí mismo o de otros objetos."
   ]
  },
  {
   "cell_type": "markdown",
   "metadata": {},
   "source": [
    "# ¿Qué es una clase?\n",
    "\n",
    "Una clase es un tipo de datos que actúa como una definición de plantilla para un tipo de objeto concreto.\n",
    "\n"
   ]
  },
  {
   "cell_type": "markdown",
   "metadata": {},
   "source": [
    "## Creación de una clase\n",
    "\n",
    "En Python, una clase se crea con la palabra clave class y se le asigna un nombre, como en este ejemplo:"
   ]
  },
  {
   "cell_type": "code",
   "execution_count": null,
   "metadata": {},
   "outputs": [],
   "source": [
    "class Car:"
   ]
  },
  {
   "cell_type": "markdown",
   "metadata": {},
   "source": [
    "# Creación de un objeto a partir de una clase\n",
    "\n",
    "Cuando se crea un objeto a partir de una clase, se dice que se crea una instancia. Lo que hace es pedirle al sistema operativo que, con esta plantilla (la clase) y estos valores iniciales, le proporcione memoria suficiente y cree un objeto.</br>\n",
    "\n",
    "Para crear una instancia de un objeto, se agregan paréntesis al nombre de la clase. Lo que se obtiene es un objeto que se puede asignar a una variable, de la siguiente manera:"
   ]
  },
  {
   "cell_type": "code",
   "execution_count": null,
   "metadata": {},
   "outputs": [],
   "source": [
    "car = Car()"
   ]
  },
  {
   "cell_type": "markdown",
   "metadata": {},
   "source": [
    "car es la variable que contiene la instancia del objeto. El momento de la creación de instancias, o de la creación de objetos, es cuando se llama a Car()."
   ]
  },
  {
   "cell_type": "markdown",
   "metadata": {},
   "source": [
    "A las variables de un objeto se les hace referencia como atributos. Cuando un atributo se adjunta a un objeto, se usa de una de estas dos maneras:\n",
    "\n",
    "Para describir el objeto: Un ejemplo de la descripción de una variable sería el color de un coche o el número de manchas de un jirafa.\n",
    "Para mantener el estado: una variable se puede usar para describir el estado de un objeto. Un ejemplo de un estado seria si se ejecuta o no."
   ]
  },
  {
   "cell_type": "markdown",
   "metadata": {},
   "source": [
    "# Agregar atributos a una clase\n",
    "\n",
    "Saber qué atributos **(variables)** se deben agregar a la clase forma parte del modelado, hay que indicarle a la clase qué atributos debe tener en el momento de la construcción, cuando se crea una instancia de un objetoy hay una función especial a la que se llama en el momento de la creación, denominada constructor.\n",
    "\n",
    "## Constructor\n",
    "\n",
    "Muchos lenguajes de programación tienen el concepto de **constructor**, la función especial que solo se invoca al crear por primera vez el objeto. \n",
    "El **constructor** solo se llamará una vez, en este método, se crean los atributos que debe tener el objeto, además, se asignan valores iniciales a los atributos creados.\n",
    "\n",
    "* En Python, el constructor tiene el nombre __init__(). \n",
    "* Debe pasar un parámetro especial, **self**, al constructor. \n",
    "* El parámetro **self** hace referencia a la instancia del objeto. \n",
    "* Cualquier asignación a esta palabra clave significa que el atributo termina en la instancia del objeto. \n",
    "* Si no agrega un atributo a **self**, en su lugar se tratará como una variable temporal que no existirá una vez que se haya terminado de ejecutar \n",
    "  __init__()."
   ]
  },
  {
   "cell_type": "markdown",
   "metadata": {},
   "source": [
    "# Ejercicio 1\n",
    "\n",
    "Cree una clase Libro con los siguientes atributos: titulo, autor, editorial"
   ]
  },
  {
   "cell_type": "code",
   "execution_count": 4,
   "metadata": {},
   "outputs": [
    {
     "name": "stdout",
     "output_type": "stream",
     "text": [
      "Titulo:  Python\n",
      "Autor:  sepa\n",
      "Editorial:  trillas\n"
     ]
    }
   ],
   "source": [
    "class Libro:\n",
    "    def __init__(self, titulo, autor, editorial):\n",
    "        self.titulo = titulo\n",
    "        self.autor = autor\n",
    "        self.editorial = editorial\n",
    "\n",
    "libro = Libro(\"Python\",\"sepa\",\"trillas\")\n",
    "\n",
    "print(\"Titulo: \", libro.titulo)\n",
    "print(\"Autor: \", libro.autor)\n",
    "print(\"Editorial: \", libro.editorial)"
   ]
  }
 ],
 "metadata": {
  "kernelspec": {
   "display_name": "Python 3",
   "language": "python",
   "name": "python3"
  },
  "language_info": {
   "codemirror_mode": {
    "name": "ipython",
    "version": 3
   },
   "file_extension": ".py",
   "mimetype": "text/x-python",
   "name": "python",
   "nbconvert_exporter": "python",
   "pygments_lexer": "ipython3",
   "version": "3.12.1"
  }
 },
 "nbformat": 4,
 "nbformat_minor": 2
}
