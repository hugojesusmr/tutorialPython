{
 "cells": [
  {
   "cell_type": "markdown",
   "metadata": {},
   "source": [
    "# Métodos en la POO\n",
    "\n",
    "Independientemente del paradigma que se use, los métodos pueden llevar a cabo una acción.</br> \n",
    "Esa acción puede ser un cálculo que solo se base en entradas, o bien puede cambiar el valor de una variable.\n",
    "\n",
    "Hay dos tipos de métodos para los objetos:\n",
    "\n",
    "**métodos externos:** que pueden invocar otros objetos.</br>\n",
    "\n",
    "**métodos internos:** que no son accesibles para otros objetos. \n",
    "\n",
    "Con independencia del tipo de método, pueden cambiar el valor del atributo de un objeto, es decir, su estado.\n",
    "\n",
    "El concepto de estado y quién y qué puede cambiarlo, es un tema importante. Es una parte importante del diseño de las clases y el objeto. "
   ]
  },
  {
   "cell_type": "markdown",
   "metadata": {},
   "source": [
    "# Encapsulación: protección de los datos\n",
    "\n",
    "* La idea general de la encapsulación es que los datos de un objeto son internos, algo que solo se refiere al objeto.</br> \n",
    "\n",
    "* Los datos son necesarios para el objeto y los métodos para realizar su trabajo, que consiste en llevar a cabo una tarea. \n",
    "\n",
    "* Cuando se dice que los datos son internos, significa que se deben proteger frente a otras manipulaciones externas; es decir, de </br> manipulaciones externas sin controlar. \n",
    "\n",
    "## ¿Por qué?\n",
    "\n",
    "* No es necesario conocer el funcionamiento interno. \n",
    "\n",
    "### Ejemplo: </br>\n",
    "\n",
    "* Cuando conduce un coche, pisa un pedal para controlar el embrague o para acelerar o frenar, ya que se controla el coche desde un nivel superior, no le importa lo que pasa debajo, cómo realiza la acción el coche.</br>\n",
    "\n",
    "* Lo mismo sucede con el código. La mayoría de las veces no es necesario saber cómo un objeto hace algo, siempre y cuando haya un método que se pueda invocar que haga lo que quiere.\n",
    "\n"
   ]
  },
  {
   "cell_type": "code",
   "execution_count": null,
   "metadata": {},
   "outputs": [],
   "source": [
    "class Square:\n",
    "    def __init__(self):\n",
    "        self.height = 2\n",
    "        self.width = 2\n",
    "\n",
    "    def __setside__(self, new_side):\n",
    "            self.height = new_side\n",
    "            self.width = new_side\n",
    "\n",
    "square = Square()\n",
    "square.height = 3            "
   ]
  },
  {
   "cell_type": "markdown",
   "metadata": {},
   "source": [
    "* Al establecer la variable height se rompe el concepto de lo que es un cuadrado</br>\n",
    "* Debe invocar el método **set_side()** para que el cuadrado funcione correctamente.</br>\n",
    "* En casi todas las instancias, debe elegir interactuar a través de un método en lugar de establecer los datos de forma explícita."
   ]
  },
  {
   "cell_type": "markdown",
   "metadata": {},
   "source": [
    "## Niveles de acceso\n",
    "\n",
    "* ¿Cómo puede proteger la clase y el objeto de la manipulación no deseada de los datos? \n",
    "\n",
    "* Se Pueden ocultar datos del mundo exterior y de otros objetos, si marca los datos y las funciones con palabras clave concretas. Estas palabras clave se conocen como **modificadores de acceso**.</br>\n",
    "\n",
    "* Para ocultar los datos, Python agrega prefijos a los nombres de atributo. Un carácter de subrayado inicial, **_**, es un mensaje al  exterior de que es probable que estos datos no se puedan tocar. \n",
    "\n",
    "* Al modificar la clase Square, termina con este código:"
   ]
  }
 ],
 "metadata": {
  "language_info": {
   "name": "python"
  }
 },
 "nbformat": 4,
 "nbformat_minor": 2
}
